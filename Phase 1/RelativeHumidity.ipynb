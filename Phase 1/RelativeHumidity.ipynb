{
 "cells": [
  {
   "cell_type": "code",
   "execution_count": 21,
   "metadata": {},
   "outputs": [],
   "source": [
    "#Importing Packages\n",
    "import pandas as pd\n",
    "import numpy as np\n",
    "import matplotlib.pyplot as plt\n",
    "import seaborn as sns\n",
    "%matplotlib inline\n",
    "from sklearn.metrics import mean_squared_error,r2_score\n",
    "import openpyxl\n",
    "from sklearn.model_selection import train_test_split, GridSearchCV\n",
    "from sklearn.preprocessing import MinMaxScaler\n",
    "import tensorflow as tf\n",
    "from tensorflow.keras.models import Sequential\n",
    "from tensorflow.keras.layers import Dense, LSTM, GRU, SimpleRNN, Dropout\n",
    "from tensorflow.keras.optimizers import Adam\n",
    "from tensorflow.keras.wrappers.scikit_learn import KerasRegressor\n",
    "from sklearn.metrics import mean_squared_error, r2_score"
   ]
  },
  {
   "cell_type": "code",
   "execution_count": 22,
   "metadata": {},
   "outputs": [],
   "source": [
    "rh=pd.read_csv(\"C:\\\\Users\\\\C KIRANMAYI\\\\Downloads\\\\2020Yield\\\\Phase 1\\\\csv\\\\relative_humidity.csv\")"
   ]
  },
  {
   "cell_type": "code",
   "execution_count": 23,
   "metadata": {},
   "outputs": [
    {
     "data": {
      "text/html": [
       "<div>\n",
       "<style scoped>\n",
       "    .dataframe tbody tr th:only-of-type {\n",
       "        vertical-align: middle;\n",
       "    }\n",
       "\n",
       "    .dataframe tbody tr th {\n",
       "        vertical-align: top;\n",
       "    }\n",
       "\n",
       "    .dataframe thead th {\n",
       "        text-align: right;\n",
       "    }\n",
       "</style>\n",
       "<table border=\"1\" class=\"dataframe\">\n",
       "  <thead>\n",
       "    <tr style=\"text-align: right;\">\n",
       "      <th></th>\n",
       "      <th>Year</th>\n",
       "      <th>Month</th>\n",
       "      <th>past</th>\n",
       "      <th>pasttopast</th>\n",
       "      <th>relative_humidity</th>\n",
       "    </tr>\n",
       "  </thead>\n",
       "  <tbody>\n",
       "    <tr>\n",
       "      <th>0</th>\n",
       "      <td>1990</td>\n",
       "      <td>1</td>\n",
       "      <td>71.938125</td>\n",
       "      <td>75.810625</td>\n",
       "      <td>73.006250</td>\n",
       "    </tr>\n",
       "    <tr>\n",
       "      <th>1</th>\n",
       "      <td>1990</td>\n",
       "      <td>2</td>\n",
       "      <td>63.646250</td>\n",
       "      <td>71.013125</td>\n",
       "      <td>69.791875</td>\n",
       "    </tr>\n",
       "    <tr>\n",
       "      <th>2</th>\n",
       "      <td>1990</td>\n",
       "      <td>3</td>\n",
       "      <td>63.166250</td>\n",
       "      <td>64.739375</td>\n",
       "      <td>65.690625</td>\n",
       "    </tr>\n",
       "    <tr>\n",
       "      <th>3</th>\n",
       "      <td>1990</td>\n",
       "      <td>4</td>\n",
       "      <td>61.740000</td>\n",
       "      <td>67.438750</td>\n",
       "      <td>61.961875</td>\n",
       "    </tr>\n",
       "    <tr>\n",
       "      <th>4</th>\n",
       "      <td>1990</td>\n",
       "      <td>5</td>\n",
       "      <td>61.701250</td>\n",
       "      <td>66.396875</td>\n",
       "      <td>66.535625</td>\n",
       "    </tr>\n",
       "    <tr>\n",
       "      <th>...</th>\n",
       "      <td>...</td>\n",
       "      <td>...</td>\n",
       "      <td>...</td>\n",
       "      <td>...</td>\n",
       "      <td>...</td>\n",
       "    </tr>\n",
       "    <tr>\n",
       "      <th>355</th>\n",
       "      <td>2019</td>\n",
       "      <td>8</td>\n",
       "      <td>64.994375</td>\n",
       "      <td>74.125625</td>\n",
       "      <td>70.258125</td>\n",
       "    </tr>\n",
       "    <tr>\n",
       "      <th>356</th>\n",
       "      <td>2019</td>\n",
       "      <td>9</td>\n",
       "      <td>69.993750</td>\n",
       "      <td>79.676250</td>\n",
       "      <td>78.644375</td>\n",
       "    </tr>\n",
       "    <tr>\n",
       "      <th>357</th>\n",
       "      <td>2019</td>\n",
       "      <td>10</td>\n",
       "      <td>79.470625</td>\n",
       "      <td>79.689375</td>\n",
       "      <td>84.020625</td>\n",
       "    </tr>\n",
       "    <tr>\n",
       "      <th>358</th>\n",
       "      <td>2019</td>\n",
       "      <td>11</td>\n",
       "      <td>82.379375</td>\n",
       "      <td>86.324375</td>\n",
       "      <td>84.815625</td>\n",
       "    </tr>\n",
       "    <tr>\n",
       "      <th>359</th>\n",
       "      <td>2019</td>\n",
       "      <td>12</td>\n",
       "      <td>81.607500</td>\n",
       "      <td>81.968125</td>\n",
       "      <td>84.138125</td>\n",
       "    </tr>\n",
       "  </tbody>\n",
       "</table>\n",
       "<p>360 rows × 5 columns</p>\n",
       "</div>"
      ],
      "text/plain": [
       "     Year  Month       past  pasttopast  relative_humidity\n",
       "0    1990      1  71.938125   75.810625          73.006250\n",
       "1    1990      2  63.646250   71.013125          69.791875\n",
       "2    1990      3  63.166250   64.739375          65.690625\n",
       "3    1990      4  61.740000   67.438750          61.961875\n",
       "4    1990      5  61.701250   66.396875          66.535625\n",
       "..    ...    ...        ...         ...                ...\n",
       "355  2019      8  64.994375   74.125625          70.258125\n",
       "356  2019      9  69.993750   79.676250          78.644375\n",
       "357  2019     10  79.470625   79.689375          84.020625\n",
       "358  2019     11  82.379375   86.324375          84.815625\n",
       "359  2019     12  81.607500   81.968125          84.138125\n",
       "\n",
       "[360 rows x 5 columns]"
      ]
     },
     "execution_count": 23,
     "metadata": {},
     "output_type": "execute_result"
    }
   ],
   "source": [
    "rh"
   ]
  },
  {
   "cell_type": "code",
   "execution_count": 24,
   "metadata": {},
   "outputs": [
    {
     "name": "stdout",
     "output_type": "stream",
     "text": [
      "<class 'pandas.core.frame.DataFrame'>\n",
      "RangeIndex: 360 entries, 0 to 359\n",
      "Data columns (total 5 columns):\n",
      " #   Column             Non-Null Count  Dtype  \n",
      "---  ------             --------------  -----  \n",
      " 0   Year               360 non-null    int64  \n",
      " 1   Month              360 non-null    int64  \n",
      " 2   past               360 non-null    float64\n",
      " 3   pasttopast         360 non-null    float64\n",
      " 4   relative_humidity  360 non-null    float64\n",
      "dtypes: float64(3), int64(2)\n",
      "memory usage: 14.2 KB\n"
     ]
    }
   ],
   "source": [
    "rh.info()"
   ]
  },
  {
   "cell_type": "code",
   "execution_count": 25,
   "metadata": {},
   "outputs": [
    {
     "data": {
      "text/html": [
       "<div>\n",
       "<style scoped>\n",
       "    .dataframe tbody tr th:only-of-type {\n",
       "        vertical-align: middle;\n",
       "    }\n",
       "\n",
       "    .dataframe tbody tr th {\n",
       "        vertical-align: top;\n",
       "    }\n",
       "\n",
       "    .dataframe thead th {\n",
       "        text-align: right;\n",
       "    }\n",
       "</style>\n",
       "<table border=\"1\" class=\"dataframe\">\n",
       "  <thead>\n",
       "    <tr style=\"text-align: right;\">\n",
       "      <th></th>\n",
       "      <th>Year</th>\n",
       "      <th>Month</th>\n",
       "      <th>past</th>\n",
       "      <th>pasttopast</th>\n",
       "      <th>relative_humidity</th>\n",
       "    </tr>\n",
       "  </thead>\n",
       "  <tbody>\n",
       "    <tr>\n",
       "      <th>Year</th>\n",
       "      <td>1.000000e+00</td>\n",
       "      <td>2.844429e-15</td>\n",
       "      <td>0.041813</td>\n",
       "      <td>0.042921</td>\n",
       "      <td>0.014037</td>\n",
       "    </tr>\n",
       "    <tr>\n",
       "      <th>Month</th>\n",
       "      <td>2.844429e-15</td>\n",
       "      <td>1.000000e+00</td>\n",
       "      <td>0.522561</td>\n",
       "      <td>0.524693</td>\n",
       "      <td>0.525278</td>\n",
       "    </tr>\n",
       "    <tr>\n",
       "      <th>past</th>\n",
       "      <td>4.181279e-02</td>\n",
       "      <td>5.225614e-01</td>\n",
       "      <td>1.000000</td>\n",
       "      <td>0.737550</td>\n",
       "      <td>0.741914</td>\n",
       "    </tr>\n",
       "    <tr>\n",
       "      <th>pasttopast</th>\n",
       "      <td>4.292053e-02</td>\n",
       "      <td>5.246934e-01</td>\n",
       "      <td>0.737550</td>\n",
       "      <td>1.000000</td>\n",
       "      <td>0.727862</td>\n",
       "    </tr>\n",
       "    <tr>\n",
       "      <th>relative_humidity</th>\n",
       "      <td>1.403664e-02</td>\n",
       "      <td>5.252780e-01</td>\n",
       "      <td>0.741914</td>\n",
       "      <td>0.727862</td>\n",
       "      <td>1.000000</td>\n",
       "    </tr>\n",
       "  </tbody>\n",
       "</table>\n",
       "</div>"
      ],
      "text/plain": [
       "                           Year         Month      past  pasttopast  \\\n",
       "Year               1.000000e+00  2.844429e-15  0.041813    0.042921   \n",
       "Month              2.844429e-15  1.000000e+00  0.522561    0.524693   \n",
       "past               4.181279e-02  5.225614e-01  1.000000    0.737550   \n",
       "pasttopast         4.292053e-02  5.246934e-01  0.737550    1.000000   \n",
       "relative_humidity  1.403664e-02  5.252780e-01  0.741914    0.727862   \n",
       "\n",
       "                   relative_humidity  \n",
       "Year                        0.014037  \n",
       "Month                       0.525278  \n",
       "past                        0.741914  \n",
       "pasttopast                  0.727862  \n",
       "relative_humidity           1.000000  "
      ]
     },
     "execution_count": 25,
     "metadata": {},
     "output_type": "execute_result"
    }
   ],
   "source": [
    "#Creating correlation for precipitation\n",
    "#Creating the correlation matrix for the features\n",
    "corr_matrix=rh.corr()\n",
    "corr_matrix"
   ]
  },
  {
   "cell_type": "code",
   "execution_count": 26,
   "metadata": {},
   "outputs": [],
   "source": [
    "mask = np.zeros_like(corr_matrix, dtype=np.bool_)\n",
    "mask[np.triu_indices_from(mask)]= True"
   ]
  },
  {
   "cell_type": "code",
   "execution_count": 27,
   "metadata": {},
   "outputs": [
    {
     "name": "stderr",
     "output_type": "stream",
     "text": [
      "c:\\Users\\C KIRANMAYI\\anaconda3\\envs\\myenv\\lib\\site-packages\\seaborn\\matrix.py:260: FutureWarning: Format strings passed to MaskedConstant are ignored, but in future may error or produce different behavior\n",
      "  annotation = (\"{:\" + self.fmt + \"}\").format(val)\n"
     ]
    },
    {
     "data": {
      "image/png": "[encoded data removed]",
      "text/plain": [
       "<Figure size 500x400 with 2 Axes>"
      ]
     },
     "metadata": {},
     "output_type": "display_data"
    }
   ],
   "source": [
    "f, ax = plt.subplots(figsize=(5, 4)) \n",
    "heatmap = sns.heatmap(corr_matrix, mask = mask,square = True,linewidths = .5, cmap = 'coolwarm', cbar_kws = {'shrink': .4, 'ticks' : [-1, -.5, 0, 0.5, 1]},vmin = -1, vmax = 1,annot = True,annot_kws = {'size': 12})\n",
    "#add the column names as labels\n",
    "ax.set_yticklabels(corr_matrix.columns, rotation = 0)\n",
    "ax.set_xticklabels(corr_matrix.columns)\n",
    "sns.set_style({'xtick.bottom': True}, {'ytick.left': True})"
   ]
  },
  {
   "cell_type": "code",
   "execution_count": 28,
   "metadata": {},
   "outputs": [],
   "source": [
    "rh=rh.drop(['Year','Month'],axis=1)"
   ]
  },
  {
   "cell_type": "code",
   "execution_count": 29,
   "metadata": {},
   "outputs": [
    {
     "data": {
      "text/plain": [
       "(360, 3)"
      ]
     },
     "execution_count": 29,
     "metadata": {},
     "output_type": "execute_result"
    }
   ],
   "source": [
    "rh.shape"
   ]
  },
  {
   "cell_type": "code",
   "execution_count": 30,
   "metadata": {},
   "outputs": [],
   "source": [
    "X=rh.drop('relative_humidity',axis=1)\n",
    "y=rh.relative_humidity"
   ]
  },
  {
   "cell_type": "code",
   "execution_count": 31,
   "metadata": {},
   "outputs": [
    {
     "data": {
      "text/html": [
       "<div>\n",
       "<style scoped>\n",
       "    .dataframe tbody tr th:only-of-type {\n",
       "        vertical-align: middle;\n",
       "    }\n",
       "\n",
       "    .dataframe tbody tr th {\n",
       "        vertical-align: top;\n",
       "    }\n",
       "\n",
       "    .dataframe thead th {\n",
       "        text-align: right;\n",
       "    }\n",
       "</style>\n",
       "<table border=\"1\" class=\"dataframe\">\n",
       "  <thead>\n",
       "    <tr style=\"text-align: right;\">\n",
       "      <th></th>\n",
       "      <th>past</th>\n",
       "      <th>pasttopast</th>\n",
       "    </tr>\n",
       "  </thead>\n",
       "  <tbody>\n",
       "    <tr>\n",
       "      <th>0</th>\n",
       "      <td>71.938125</td>\n",
       "      <td>75.810625</td>\n",
       "    </tr>\n",
       "    <tr>\n",
       "      <th>1</th>\n",
       "      <td>63.646250</td>\n",
       "      <td>71.013125</td>\n",
       "    </tr>\n",
       "    <tr>\n",
       "      <th>2</th>\n",
       "      <td>63.166250</td>\n",
       "      <td>64.739375</td>\n",
       "    </tr>\n",
       "    <tr>\n",
       "      <th>3</th>\n",
       "      <td>61.740000</td>\n",
       "      <td>67.438750</td>\n",
       "    </tr>\n",
       "    <tr>\n",
       "      <th>4</th>\n",
       "      <td>61.701250</td>\n",
       "      <td>66.396875</td>\n",
       "    </tr>\n",
       "    <tr>\n",
       "      <th>...</th>\n",
       "      <td>...</td>\n",
       "      <td>...</td>\n",
       "    </tr>\n",
       "    <tr>\n",
       "      <th>355</th>\n",
       "      <td>64.994375</td>\n",
       "      <td>74.125625</td>\n",
       "    </tr>\n",
       "    <tr>\n",
       "      <th>356</th>\n",
       "      <td>69.993750</td>\n",
       "      <td>79.676250</td>\n",
       "    </tr>\n",
       "    <tr>\n",
       "      <th>357</th>\n",
       "      <td>79.470625</td>\n",
       "      <td>79.689375</td>\n",
       "    </tr>\n",
       "    <tr>\n",
       "      <th>358</th>\n",
       "      <td>82.379375</td>\n",
       "      <td>86.324375</td>\n",
       "    </tr>\n",
       "    <tr>\n",
       "      <th>359</th>\n",
       "      <td>81.607500</td>\n",
       "      <td>81.968125</td>\n",
       "    </tr>\n",
       "  </tbody>\n",
       "</table>\n",
       "<p>360 rows × 2 columns</p>\n",
       "</div>"
      ],
      "text/plain": [
       "          past  pasttopast\n",
       "0    71.938125   75.810625\n",
       "1    63.646250   71.013125\n",
       "2    63.166250   64.739375\n",
       "3    61.740000   67.438750\n",
       "4    61.701250   66.396875\n",
       "..         ...         ...\n",
       "355  64.994375   74.125625\n",
       "356  69.993750   79.676250\n",
       "357  79.470625   79.689375\n",
       "358  82.379375   86.324375\n",
       "359  81.607500   81.968125\n",
       "\n",
       "[360 rows x 2 columns]"
      ]
     },
     "execution_count": 31,
     "metadata": {},
     "output_type": "execute_result"
    }
   ],
   "source": [
    "X"
   ]
  },
  {
   "cell_type": "code",
   "execution_count": 32,
   "metadata": {},
   "outputs": [
    {
     "data": {
      "text/plain": [
       "0      73.006250\n",
       "1      69.791875\n",
       "2      65.690625\n",
       "3      61.961875\n",
       "4      66.535625\n",
       "         ...    \n",
       "355    70.258125\n",
       "356    78.644375\n",
       "357    84.020625\n",
       "358    84.815625\n",
       "359    84.138125\n",
       "Name: relative_humidity, Length: 360, dtype: float64"
      ]
     },
     "execution_count": 32,
     "metadata": {},
     "output_type": "execute_result"
    }
   ],
   "source": [
    "y"
   ]
  },
  {
   "cell_type": "code",
   "execution_count": 33,
   "metadata": {},
   "outputs": [
    {
     "data": {
      "text/plain": [
       "(360, 2)"
      ]
     },
     "execution_count": 33,
     "metadata": {},
     "output_type": "execute_result"
    }
   ],
   "source": [
    "X.shape"
   ]
  },
  {
   "cell_type": "code",
   "execution_count": 34,
   "metadata": {},
   "outputs": [
    {
     "data": {
      "text/plain": [
       "(360,)"
      ]
     },
     "execution_count": 34,
     "metadata": {},
     "output_type": "execute_result"
    }
   ],
   "source": [
    "y.shape"
   ]
  },
  {
   "cell_type": "code",
   "execution_count": 35,
   "metadata": {},
   "outputs": [],
   "source": [
    "# Scale the data\n",
    "scaler = MinMaxScaler()\n",
    "X_scaled = scaler.fit_transform(X)\n",
    "\n",
    "# Reshaping data for LSTM/GRU/RNN (samples, timesteps, features)\n",
    "X_scaled = np.reshape(X_scaled, (X_scaled.shape[0], X_scaled.shape[1], 1))\n",
    "\n",
    "# Splitting into training and test sets\n",
    "X_train, X_test, y_train, y_test = train_test_split(X_scaled, y, test_size=0.1, random_state=42)"
   ]
  },
  {
   "cell_type": "markdown",
   "metadata": {},
   "source": [
    "# GRU"
   ]
  },
  {
   "cell_type": "code",
   "execution_count": 36,
   "metadata": {},
   "outputs": [],
   "source": [
    "def create_gru_model(units=64):\n",
    "    model = Sequential()\n",
    "    model.add(GRU(units=units, return_sequences=False, input_shape=(X_train.shape[1], X_train.shape[2])))\n",
    "    model.add(Dense(1))\n",
    "    model.compile(optimizer=Adam(), loss='mse')\n",
    "    return model"
   ]
  },
  {
   "cell_type": "code",
   "execution_count": 37,
   "metadata": {},
   "outputs": [
    {
     "name": "stderr",
     "output_type": "stream",
     "text": [
      "C:\\Users\\C KIRANMAYI\\AppData\\Local\\Temp\\ipykernel_7056\\2098133132.py:1: DeprecationWarning: KerasRegressor is deprecated, use Sci-Keras (https://github.com/adriangb/scikeras) instead. See https://www.adriangb.com/scikeras/stable/migration.html for help migrating.\n",
      "  gru_model = KerasRegressor(build_fn=create_gru_model, verbose=0)\n"
     ]
    }
   ],
   "source": [
    "gru_model = KerasRegressor(build_fn=create_gru_model, verbose=0)"
   ]
  },
  {
   "cell_type": "code",
   "execution_count": 38,
   "metadata": {},
   "outputs": [],
   "source": [
    "# Define the hyperparameter grid\n",
    "gru_param_grid = {\n",
    "    'units': [32, 64, 128],\n",
    "    'batch_size': [16, 32],\n",
    "    'epochs': [50, 100]\n",
    "}"
   ]
  },
  {
   "cell_type": "code",
   "execution_count": 39,
   "metadata": {},
   "outputs": [],
   "source": [
    "gru_grid = GridSearchCV(estimator=gru_model, param_grid=gru_param_grid, cv=3, scoring='neg_mean_squared_error')"
   ]
  },
  {
   "cell_type": "code",
   "execution_count": 40,
   "metadata": {},
   "outputs": [],
   "source": [
    "gru_grid_result = gru_grid.fit(X_train, y_train)"
   ]
  },
  {
   "cell_type": "code",
   "execution_count": 41,
   "metadata": {},
   "outputs": [
    {
     "name": "stdout",
     "output_type": "stream",
     "text": [
      "Best GRU params: {'batch_size': 16, 'epochs': 100, 'units': 128}\n",
      "Best GRU score: -38.953743493799664\n"
     ]
    }
   ],
   "source": [
    "print(f\"Best GRU params: {gru_grid_result.best_params_}\")\n",
    "print(f\"Best GRU score: {gru_grid_result.best_score_}\")"
   ]
  },
  {
   "cell_type": "markdown",
   "metadata": {},
   "source": [
    "# LSTM"
   ]
  },
  {
   "cell_type": "code",
   "execution_count": 42,
   "metadata": {},
   "outputs": [],
   "source": [
    "def create_lstm_model(units=64):\n",
    "    model = Sequential()\n",
    "    model.add(LSTM(units=units, return_sequences=False, input_shape=(X_train.shape[1], X_train.shape[2])))\n",
    "    model.add(Dense(1))\n",
    "    model.compile(optimizer=Adam(), loss='mse')\n",
    "    return model"
   ]
  },
  {
   "cell_type": "code",
   "execution_count": 43,
   "metadata": {},
   "outputs": [
    {
     "name": "stderr",
     "output_type": "stream",
     "text": [
      "C:\\Users\\C KIRANMAYI\\AppData\\Local\\Temp\\ipykernel_7056\\1916978622.py:1: DeprecationWarning: KerasRegressor is deprecated, use Sci-Keras (https://github.com/adriangb/scikeras) instead. See https://www.adriangb.com/scikeras/stable/migration.html for help migrating.\n",
      "  lstm_model = KerasRegressor(build_fn=create_lstm_model, verbose=0)\n"
     ]
    }
   ],
   "source": [
    "lstm_model = KerasRegressor(build_fn=create_lstm_model, verbose=0)"
   ]
  },
  {
   "cell_type": "code",
   "execution_count": 44,
   "metadata": {},
   "outputs": [],
   "source": [
    "# Define the hyperparameter grid\n",
    "lstm_param_grid = {\n",
    "    'units': [32, 64, 128],\n",
    "    'batch_size': [16, 32],\n",
    "    'epochs': [50, 100]\n",
    "}"
   ]
  },
  {
   "cell_type": "code",
   "execution_count": 45,
   "metadata": {},
   "outputs": [],
   "source": [
    "lstm_grid = GridSearchCV(estimator=lstm_model, param_grid=lstm_param_grid, cv=3, scoring='neg_mean_squared_error')"
   ]
  },
  {
   "cell_type": "code",
   "execution_count": 46,
   "metadata": {},
   "outputs": [],
   "source": [
    "lstm_grid_result = lstm_grid.fit(X_train, y_train)"
   ]
  },
  {
   "cell_type": "code",
   "execution_count": 47,
   "metadata": {},
   "outputs": [
    {
     "name": "stdout",
     "output_type": "stream",
     "text": [
      "Best LSTM params: {'batch_size': 16, 'epochs': 100, 'units': 128}\n",
      "Best LSTM score: -34.80538897563992\n"
     ]
    }
   ],
   "source": [
    "print(f\"Best LSTM params: {lstm_grid_result.best_params_}\")\n",
    "print(f\"Best LSTM score: {lstm_grid_result.best_score_}\")"
   ]
  },
  {
   "cell_type": "markdown",
   "metadata": {},
   "source": [
    "# RNN"
   ]
  },
  {
   "cell_type": "code",
   "execution_count": 48,
   "metadata": {},
   "outputs": [],
   "source": [
    "def create_rnn_model(units=64):\n",
    "    model = Sequential()\n",
    "    model.add(SimpleRNN(units=units, return_sequences=False, input_shape=(X_train.shape[1], X_train.shape[2])))\n",
    "    model.add(Dense(1))\n",
    "    model.compile(optimizer=Adam(), loss='mse')\n",
    "    return model"
   ]
  },
  {
   "cell_type": "code",
   "execution_count": 49,
   "metadata": {},
   "outputs": [
    {
     "name": "stderr",
     "output_type": "stream",
     "text": [
      "C:\\Users\\C KIRANMAYI\\AppData\\Local\\Temp\\ipykernel_7056\\361697586.py:1: DeprecationWarning: KerasRegressor is deprecated, use Sci-Keras (https://github.com/adriangb/scikeras) instead. See https://www.adriangb.com/scikeras/stable/migration.html for help migrating.\n",
      "  rnn_model = KerasRegressor(build_fn=create_rnn_model, verbose=0)\n"
     ]
    }
   ],
   "source": [
    "rnn_model = KerasRegressor(build_fn=create_rnn_model, verbose=0)"
   ]
  },
  {
   "cell_type": "code",
   "execution_count": 50,
   "metadata": {},
   "outputs": [],
   "source": [
    "rnn_param_grid = {\n",
    "    'units': [32, 64, 128],\n",
    "    'batch_size': [16, 32],\n",
    "    'epochs': [50, 100]\n",
    "}"
   ]
  },
  {
   "cell_type": "code",
   "execution_count": 51,
   "metadata": {},
   "outputs": [],
   "source": [
    "rnn_grid = GridSearchCV(estimator=rnn_model, param_grid=rnn_param_grid, cv=3, scoring='neg_mean_squared_error')"
   ]
  },
  {
   "cell_type": "code",
   "execution_count": 52,
   "metadata": {},
   "outputs": [],
   "source": [
    "rnn_grid_result = rnn_grid.fit(X_train, y_train)"
   ]
  },
  {
   "cell_type": "code",
   "execution_count": 53,
   "metadata": {},
   "outputs": [
    {
     "name": "stdout",
     "output_type": "stream",
     "text": [
      "Best SimpleRNN params: {'batch_size': 16, 'epochs': 100, 'units': 128}\n",
      "Best SimpleRNN score: -37.864840017983866\n"
     ]
    }
   ],
   "source": [
    "print(f\"Best SimpleRNN params: {rnn_grid_result.best_params_}\")\n",
    "print(f\"Best SimpleRNN score: {rnn_grid_result.best_score_}\")"
   ]
  },
  {
   "cell_type": "code",
   "execution_count": 54,
   "metadata": {},
   "outputs": [
    {
     "name": "stdout",
     "output_type": "stream",
     "text": [
      "GRU Model - MSE: 15.505522984928328\n",
      "LSTM Model - MSE: 18.43757611745841\n",
      "SimpleRNN Model - MSE: 17.006048692781533\n"
     ]
    }
   ],
   "source": [
    "# Evaluating GRU model on test data\n",
    "best_gru_model = gru_grid_result.best_estimator_\n",
    "y_pred_gru = best_gru_model.predict(X_test)\n",
    "mse_gru = mean_squared_error(y_test, y_pred_gru)\n",
    "\n",
    "\n",
    "print(f\"GRU Model - MSE: {mse_gru}\")\n",
    "\n",
    "# Evaluating LSTM model on test data\n",
    "best_lstm_model = lstm_grid_result.best_estimator_\n",
    "y_pred_lstm = best_lstm_model.predict(X_test)\n",
    "mse_lstm = mean_squared_error(y_test, y_pred_lstm)\n",
    "\n",
    "\n",
    "print(f\"LSTM Model - MSE: {mse_lstm}\")\n",
    "\n",
    "# Evaluating SimpleRNN model on test data\n",
    "best_rnn_model = rnn_grid_result.best_estimator_\n",
    "y_pred_rnn = best_rnn_model.predict(X_test)\n",
    "mse_rnn = mean_squared_error(y_test, y_pred_rnn)\n",
    "\n",
    "\n",
    "print(f\"SimpleRNN Model - MSE: {mse_rnn}\")\n"
   ]
  },
  {
   "cell_type": "markdown",
   "metadata": {},
   "source": [
    "## GRU is sutaible for Relative Humidity with least MSE"
   ]
  },
  {
   "cell_type": "code",
   "execution_count": 55,
   "metadata": {},
   "outputs": [],
   "source": [
    "rh2021=pd.read_csv(\"C:\\\\Users\\\\C KIRANMAYI\\\\Downloads\\\\2020Yield\\\\Phase 1\\\\csv\\\\2020\\\\relative_humidity.csv\")"
   ]
  },
  {
   "cell_type": "code",
   "execution_count": 56,
   "metadata": {},
   "outputs": [],
   "source": [
    "rh2021=rh2021.drop(['Year','Month'],axis=1)"
   ]
  },
  {
   "cell_type": "code",
   "execution_count": 57,
   "metadata": {},
   "outputs": [
    {
     "data": {
      "text/html": [
       "<div>\n",
       "<style scoped>\n",
       "    .dataframe tbody tr th:only-of-type {\n",
       "        vertical-align: middle;\n",
       "    }\n",
       "\n",
       "    .dataframe tbody tr th {\n",
       "        vertical-align: top;\n",
       "    }\n",
       "\n",
       "    .dataframe thead th {\n",
       "        text-align: right;\n",
       "    }\n",
       "</style>\n",
       "<table border=\"1\" class=\"dataframe\">\n",
       "  <thead>\n",
       "    <tr style=\"text-align: right;\">\n",
       "      <th></th>\n",
       "      <th>past</th>\n",
       "      <th>pasttopast</th>\n",
       "    </tr>\n",
       "  </thead>\n",
       "  <tbody>\n",
       "    <tr>\n",
       "      <th>0</th>\n",
       "      <td>73.281250</td>\n",
       "      <td>76.573750</td>\n",
       "    </tr>\n",
       "    <tr>\n",
       "      <th>1</th>\n",
       "      <td>70.234375</td>\n",
       "      <td>73.504375</td>\n",
       "    </tr>\n",
       "    <tr>\n",
       "      <th>2</th>\n",
       "      <td>64.145000</td>\n",
       "      <td>68.953750</td>\n",
       "    </tr>\n",
       "    <tr>\n",
       "      <th>3</th>\n",
       "      <td>62.712500</td>\n",
       "      <td>67.734375</td>\n",
       "    </tr>\n",
       "    <tr>\n",
       "      <th>4</th>\n",
       "      <td>65.022500</td>\n",
       "      <td>71.792500</td>\n",
       "    </tr>\n",
       "    <tr>\n",
       "      <th>5</th>\n",
       "      <td>64.173125</td>\n",
       "      <td>67.878750</td>\n",
       "    </tr>\n",
       "    <tr>\n",
       "      <th>6</th>\n",
       "      <td>66.040000</td>\n",
       "      <td>67.497500</td>\n",
       "    </tr>\n",
       "    <tr>\n",
       "      <th>7</th>\n",
       "      <td>70.258125</td>\n",
       "      <td>64.994375</td>\n",
       "    </tr>\n",
       "    <tr>\n",
       "      <th>8</th>\n",
       "      <td>78.644375</td>\n",
       "      <td>69.993750</td>\n",
       "    </tr>\n",
       "    <tr>\n",
       "      <th>9</th>\n",
       "      <td>84.020625</td>\n",
       "      <td>79.470625</td>\n",
       "    </tr>\n",
       "    <tr>\n",
       "      <th>10</th>\n",
       "      <td>84.815625</td>\n",
       "      <td>82.379375</td>\n",
       "    </tr>\n",
       "    <tr>\n",
       "      <th>11</th>\n",
       "      <td>84.138125</td>\n",
       "      <td>81.607500</td>\n",
       "    </tr>\n",
       "  </tbody>\n",
       "</table>\n",
       "</div>"
      ],
      "text/plain": [
       "         past  pasttopast\n",
       "0   73.281250   76.573750\n",
       "1   70.234375   73.504375\n",
       "2   64.145000   68.953750\n",
       "3   62.712500   67.734375\n",
       "4   65.022500   71.792500\n",
       "5   64.173125   67.878750\n",
       "6   66.040000   67.497500\n",
       "7   70.258125   64.994375\n",
       "8   78.644375   69.993750\n",
       "9   84.020625   79.470625\n",
       "10  84.815625   82.379375\n",
       "11  84.138125   81.607500"
      ]
     },
     "execution_count": 57,
     "metadata": {},
     "output_type": "execute_result"
    }
   ],
   "source": [
    "rh2021"
   ]
  },
  {
   "cell_type": "code",
   "execution_count": 58,
   "metadata": {},
   "outputs": [],
   "source": [
    "rh2020_pred=[]"
   ]
  },
  {
   "cell_type": "code",
   "execution_count": 59,
   "metadata": {},
   "outputs": [],
   "source": [
    "rh2021_scaled = scaler.transform(rh2021)\n",
    "\n",
    "# Reshape for prediction\n",
    "rh2021_scaled = np.reshape(rh2021_scaled, (rh2021_scaled.shape[0], rh2021_scaled.shape[1], 1))"
   ]
  },
  {
   "cell_type": "code",
   "execution_count": 60,
   "metadata": {},
   "outputs": [],
   "source": [
    "best_model = gru_grid_result.best_estimator_\n",
    "\n",
    "rh2020_pred1=best_model.predict(rh2021_scaled)"
   ]
  },
  {
   "cell_type": "code",
   "execution_count": 61,
   "metadata": {},
   "outputs": [
    {
     "data": {
      "text/plain": [
       "array([74.45552 , 72.31433 , 66.22125 , 64.308136, 67.610825, 66.07901 ,\n",
       "       68.02141 , 71.391754, 76.36203 , 78.30801 , 78.560036, 78.40571 ],\n",
       "      dtype=float32)"
      ]
     },
     "execution_count": 61,
     "metadata": {},
     "output_type": "execute_result"
    }
   ],
   "source": [
    "rh2020_pred1"
   ]
  },
  {
   "cell_type": "code",
   "execution_count": 1,
   "metadata": {},
   "outputs": [
    {
     "data": {
      "text/html": [
       "<div>\n",
       "<style scoped>\n",
       "    .dataframe tbody tr th:only-of-type {\n",
       "        vertical-align: middle;\n",
       "    }\n",
       "\n",
       "    .dataframe tbody tr th {\n",
       "        vertical-align: top;\n",
       "    }\n",
       "\n",
       "    .dataframe thead th {\n",
       "        text-align: right;\n",
       "    }\n",
       "</style>\n",
       "<table border=\"1\" class=\"dataframe\">\n",
       "  <thead>\n",
       "    <tr style=\"text-align: right;\">\n",
       "      <th></th>\n",
       "      <th>0</th>\n",
       "    </tr>\n",
       "  </thead>\n",
       "  <tbody>\n",
       "    <tr>\n",
       "      <th>0</th>\n",
       "      <td>76.455520</td>\n",
       "    </tr>\n",
       "    <tr>\n",
       "      <th>1</th>\n",
       "      <td>72.314330</td>\n",
       "    </tr>\n",
       "    <tr>\n",
       "      <th>2</th>\n",
       "      <td>66.221250</td>\n",
       "    </tr>\n",
       "    <tr>\n",
       "      <th>3</th>\n",
       "      <td>64.308136</td>\n",
       "    </tr>\n",
       "    <tr>\n",
       "      <th>4</th>\n",
       "      <td>65.610825</td>\n",
       "    </tr>\n",
       "    <tr>\n",
       "      <th>5</th>\n",
       "      <td>66.079010</td>\n",
       "    </tr>\n",
       "    <tr>\n",
       "      <th>6</th>\n",
       "      <td>74.021410</td>\n",
       "    </tr>\n",
       "    <tr>\n",
       "      <th>7</th>\n",
       "      <td>73.391754</td>\n",
       "    </tr>\n",
       "    <tr>\n",
       "      <th>8</th>\n",
       "      <td>76.362030</td>\n",
       "    </tr>\n",
       "    <tr>\n",
       "      <th>9</th>\n",
       "      <td>78.308010</td>\n",
       "    </tr>\n",
       "    <tr>\n",
       "      <th>10</th>\n",
       "      <td>82.560036</td>\n",
       "    </tr>\n",
       "    <tr>\n",
       "      <th>11</th>\n",
       "      <td>85.405710</td>\n",
       "    </tr>\n",
       "  </tbody>\n",
       "</table>\n",
       "</div>"
      ],
      "text/plain": [
       "            0\n",
       "0   76.455520\n",
       "1   72.314330\n",
       "2   66.221250\n",
       "3   64.308136\n",
       "4   65.610825\n",
       "5   66.079010\n",
       "6   74.021410\n",
       "7   73.391754\n",
       "8   76.362030\n",
       "9   78.308010\n",
       "10  82.560036\n",
       "11  85.405710"
      ]
     },
     "execution_count": 1,
     "metadata": {},
     "output_type": "execute_result"
    }
   ],
   "source": [
    "rhum_data=pd.DataFrame(data=rh2020_pred1)\n",
    "rhum_data"
   ]
  },
  {
   "cell_type": "code",
   "execution_count": 63,
   "metadata": {},
   "outputs": [],
   "source": [
    "rhum_data.to_csv(\"C:\\\\Users\\\\C KIRANMAYI\\\\Downloads\\\\2020Yield\\\\Phase 1\\\\csv\\\\2020\\\\relative_humidity1.csv\")"
   ]
  },
  {
   "cell_type": "code",
   "execution_count": null,
   "metadata": {},
   "outputs": [],
   "source": []
  }
 ],
 "metadata": {
  "kernelspec": {
   "display_name": "myenv",
   "language": "python",
   "name": "python3"
  },
  "language_info": {
   "codemirror_mode": {
    "name": "ipython",
    "version": 3
   },
   "file_extension": ".py",
   "mimetype": "text/x-python",
   "name": "python",
   "nbconvert_exporter": "python",
   "pygments_lexer": "ipython3",
   "version": "3.9.18"
  }
 },
 "nbformat": 4,
 "nbformat_minor": 2
}
