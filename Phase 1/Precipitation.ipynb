{
 "cells": [
  {
   "cell_type": "code",
   "execution_count": 1,
   "metadata": {},
   "outputs": [],
   "source": [
    "#Importing Packages\n",
    "import pandas as pd\n",
    "import numpy as np\n",
    "import matplotlib.pyplot as plt\n",
    "import seaborn as sns\n",
    "%matplotlib inline\n",
    "from sklearn.metrics import mean_squared_error,r2_score\n",
    "import openpyxl\n",
    "from sklearn.model_selection import train_test_split, GridSearchCV\n",
    "from sklearn.preprocessing import MinMaxScaler\n",
    "import tensorflow as tf\n",
    "from tensorflow.keras.models import Sequential\n",
    "from tensorflow.keras.layers import Dense, LSTM, GRU, SimpleRNN, Dropout\n",
    "from tensorflow.keras.optimizers import Adam\n",
    "from tensorflow.keras.wrappers.scikit_learn import KerasRegressor\n",
    "from sklearn.metrics import mean_squared_error, r2_score"
   ]
  },
  {
   "cell_type": "code",
   "execution_count": 2,
   "metadata": {},
   "outputs": [],
   "source": [
    "#Importing the dataset\n",
    "precipitation=pd.read_csv(\"C:\\\\Users\\\\C KIRANMAYI\\\\Downloads\\\\2020Yield\\\\Phase 1\\\\csv\\\\precipitation.csv\")"
   ]
  },
  {
   "cell_type": "code",
   "execution_count": 3,
   "metadata": {},
   "outputs": [
    {
     "data": {
      "text/html": [
       "<div>\n",
       "<style scoped>\n",
       "    .dataframe tbody tr th:only-of-type {\n",
       "        vertical-align: middle;\n",
       "    }\n",
       "\n",
       "    .dataframe tbody tr th {\n",
       "        vertical-align: top;\n",
       "    }\n",
       "\n",
       "    .dataframe thead th {\n",
       "        text-align: right;\n",
       "    }\n",
       "</style>\n",
       "<table border=\"1\" class=\"dataframe\">\n",
       "  <thead>\n",
       "    <tr style=\"text-align: right;\">\n",
       "      <th></th>\n",
       "      <th>Year</th>\n",
       "      <th>Month</th>\n",
       "      <th>past</th>\n",
       "      <th>pasttopast</th>\n",
       "      <th>precipitation</th>\n",
       "    </tr>\n",
       "  </thead>\n",
       "  <tbody>\n",
       "    <tr>\n",
       "      <th>0</th>\n",
       "      <td>1990</td>\n",
       "      <td>1</td>\n",
       "      <td>0.000000</td>\n",
       "      <td>0.000000</td>\n",
       "      <td>0.461875</td>\n",
       "    </tr>\n",
       "    <tr>\n",
       "      <th>1</th>\n",
       "      <td>1990</td>\n",
       "      <td>2</td>\n",
       "      <td>0.000000</td>\n",
       "      <td>0.000000</td>\n",
       "      <td>0.000000</td>\n",
       "    </tr>\n",
       "    <tr>\n",
       "      <th>2</th>\n",
       "      <td>1990</td>\n",
       "      <td>3</td>\n",
       "      <td>0.000000</td>\n",
       "      <td>0.000000</td>\n",
       "      <td>0.000000</td>\n",
       "    </tr>\n",
       "    <tr>\n",
       "      <th>3</th>\n",
       "      <td>1990</td>\n",
       "      <td>4</td>\n",
       "      <td>0.000000</td>\n",
       "      <td>0.395000</td>\n",
       "      <td>0.000000</td>\n",
       "    </tr>\n",
       "    <tr>\n",
       "      <th>4</th>\n",
       "      <td>1990</td>\n",
       "      <td>5</td>\n",
       "      <td>0.000000</td>\n",
       "      <td>0.000000</td>\n",
       "      <td>2.701875</td>\n",
       "    </tr>\n",
       "    <tr>\n",
       "      <th>...</th>\n",
       "      <td>...</td>\n",
       "      <td>...</td>\n",
       "      <td>...</td>\n",
       "      <td>...</td>\n",
       "      <td>...</td>\n",
       "    </tr>\n",
       "    <tr>\n",
       "      <th>355</th>\n",
       "      <td>2019</td>\n",
       "      <td>8</td>\n",
       "      <td>1.053750</td>\n",
       "      <td>5.270000</td>\n",
       "      <td>4.875625</td>\n",
       "    </tr>\n",
       "    <tr>\n",
       "      <th>356</th>\n",
       "      <td>2019</td>\n",
       "      <td>9</td>\n",
       "      <td>1.580625</td>\n",
       "      <td>5.270000</td>\n",
       "      <td>5.270000</td>\n",
       "    </tr>\n",
       "    <tr>\n",
       "      <th>357</th>\n",
       "      <td>2019</td>\n",
       "      <td>10</td>\n",
       "      <td>5.270000</td>\n",
       "      <td>5.205625</td>\n",
       "      <td>6.853750</td>\n",
       "    </tr>\n",
       "    <tr>\n",
       "      <th>358</th>\n",
       "      <td>2019</td>\n",
       "      <td>11</td>\n",
       "      <td>7.249375</td>\n",
       "      <td>8.965000</td>\n",
       "      <td>6.919375</td>\n",
       "    </tr>\n",
       "    <tr>\n",
       "      <th>359</th>\n",
       "      <td>2019</td>\n",
       "      <td>12</td>\n",
       "      <td>1.515000</td>\n",
       "      <td>2.108750</td>\n",
       "      <td>4.085625</td>\n",
       "    </tr>\n",
       "  </tbody>\n",
       "</table>\n",
       "<p>360 rows × 5 columns</p>\n",
       "</div>"
      ],
      "text/plain": [
       "     Year  Month      past  pasttopast  precipitation\n",
       "0    1990      1  0.000000    0.000000       0.461875\n",
       "1    1990      2  0.000000    0.000000       0.000000\n",
       "2    1990      3  0.000000    0.000000       0.000000\n",
       "3    1990      4  0.000000    0.395000       0.000000\n",
       "4    1990      5  0.000000    0.000000       2.701875\n",
       "..    ...    ...       ...         ...            ...\n",
       "355  2019      8  1.053750    5.270000       4.875625\n",
       "356  2019      9  1.580625    5.270000       5.270000\n",
       "357  2019     10  5.270000    5.205625       6.853750\n",
       "358  2019     11  7.249375    8.965000       6.919375\n",
       "359  2019     12  1.515000    2.108750       4.085625\n",
       "\n",
       "[360 rows x 5 columns]"
      ]
     },
     "execution_count": 3,
     "metadata": {},
     "output_type": "execute_result"
    }
   ],
   "source": [
    "precipitation"
   ]
  },
  {
   "cell_type": "code",
   "execution_count": 4,
   "metadata": {},
   "outputs": [
    {
     "data": {
      "text/plain": [
       "(360, 5)"
      ]
     },
     "execution_count": 4,
     "metadata": {},
     "output_type": "execute_result"
    }
   ],
   "source": [
    "precipitation.shape"
   ]
  },
  {
   "cell_type": "code",
   "execution_count": 5,
   "metadata": {},
   "outputs": [
    {
     "name": "stdout",
     "output_type": "stream",
     "text": [
      "<class 'pandas.core.frame.DataFrame'>\n",
      "RangeIndex: 360 entries, 0 to 359\n",
      "Data columns (total 5 columns):\n",
      " #   Column         Non-Null Count  Dtype  \n",
      "---  ------         --------------  -----  \n",
      " 0   Year           360 non-null    int64  \n",
      " 1   Month          360 non-null    int64  \n",
      " 2   past           360 non-null    float64\n",
      " 3   pasttopast     360 non-null    float64\n",
      " 4   precipitation  360 non-null    float64\n",
      "dtypes: float64(3), int64(2)\n",
      "memory usage: 14.2 KB\n"
     ]
    }
   ],
   "source": [
    "precipitation.info()"
   ]
  },
  {
   "cell_type": "code",
   "execution_count": 6,
   "metadata": {},
   "outputs": [
    {
     "data": {
      "text/html": [
       "<div>\n",
       "<style scoped>\n",
       "    .dataframe tbody tr th:only-of-type {\n",
       "        vertical-align: middle;\n",
       "    }\n",
       "\n",
       "    .dataframe tbody tr th {\n",
       "        vertical-align: top;\n",
       "    }\n",
       "\n",
       "    .dataframe thead th {\n",
       "        text-align: right;\n",
       "    }\n",
       "</style>\n",
       "<table border=\"1\" class=\"dataframe\">\n",
       "  <thead>\n",
       "    <tr style=\"text-align: right;\">\n",
       "      <th></th>\n",
       "      <th>Year</th>\n",
       "      <th>Month</th>\n",
       "      <th>past</th>\n",
       "      <th>pasttopast</th>\n",
       "      <th>precipitation</th>\n",
       "    </tr>\n",
       "  </thead>\n",
       "  <tbody>\n",
       "    <tr>\n",
       "      <th>Year</th>\n",
       "      <td>1.000000e+00</td>\n",
       "      <td>2.844429e-15</td>\n",
       "      <td>0.028532</td>\n",
       "      <td>0.050290</td>\n",
       "      <td>0.032269</td>\n",
       "    </tr>\n",
       "    <tr>\n",
       "      <th>Month</th>\n",
       "      <td>2.844429e-15</td>\n",
       "      <td>1.000000e+00</td>\n",
       "      <td>0.592211</td>\n",
       "      <td>0.587063</td>\n",
       "      <td>0.600713</td>\n",
       "    </tr>\n",
       "    <tr>\n",
       "      <th>past</th>\n",
       "      <td>2.853157e-02</td>\n",
       "      <td>5.922107e-01</td>\n",
       "      <td>1.000000</td>\n",
       "      <td>0.547635</td>\n",
       "      <td>0.549992</td>\n",
       "    </tr>\n",
       "    <tr>\n",
       "      <th>pasttopast</th>\n",
       "      <td>5.028977e-02</td>\n",
       "      <td>5.870627e-01</td>\n",
       "      <td>0.547635</td>\n",
       "      <td>1.000000</td>\n",
       "      <td>0.519363</td>\n",
       "    </tr>\n",
       "    <tr>\n",
       "      <th>precipitation</th>\n",
       "      <td>3.226930e-02</td>\n",
       "      <td>6.007131e-01</td>\n",
       "      <td>0.549992</td>\n",
       "      <td>0.519363</td>\n",
       "      <td>1.000000</td>\n",
       "    </tr>\n",
       "  </tbody>\n",
       "</table>\n",
       "</div>"
      ],
      "text/plain": [
       "                       Year         Month      past  pasttopast  precipitation\n",
       "Year           1.000000e+00  2.844429e-15  0.028532    0.050290       0.032269\n",
       "Month          2.844429e-15  1.000000e+00  0.592211    0.587063       0.600713\n",
       "past           2.853157e-02  5.922107e-01  1.000000    0.547635       0.549992\n",
       "pasttopast     5.028977e-02  5.870627e-01  0.547635    1.000000       0.519363\n",
       "precipitation  3.226930e-02  6.007131e-01  0.549992    0.519363       1.000000"
      ]
     },
     "execution_count": 6,
     "metadata": {},
     "output_type": "execute_result"
    }
   ],
   "source": [
    "#Creating correlation matrix for precipitation\n",
    "corr_matrix=precipitation.corr()\n",
    "corr_matrix"
   ]
  },
  {
   "cell_type": "code",
   "execution_count": 7,
   "metadata": {},
   "outputs": [],
   "source": [
    "mask = np.zeros_like(corr_matrix, dtype=np.bool_)\n",
    "mask[np.triu_indices_from(mask)]= True"
   ]
  },
  {
   "cell_type": "code",
   "execution_count": 8,
   "metadata": {
    "scrolled": true
   },
   "outputs": [
    {
     "name": "stderr",
     "output_type": "stream",
     "text": [
      "c:\\Users\\C KIRANMAYI\\anaconda3\\envs\\myenv\\lib\\site-packages\\seaborn\\matrix.py:260: FutureWarning: Format strings passed to MaskedConstant are ignored, but in future may error or produce different behavior\n",
      "  annotation = (\"{:\" + self.fmt + \"}\").format(val)\n"
     ]
    },
    {
     "data": {
      "image/png": "[encoded data removed]",
      "text/plain": [
       "<Figure size 500x400 with 2 Axes>"
      ]
     },
     "metadata": {},
     "output_type": "display_data"
    }
   ],
   "source": [
    "f, ax = plt.subplots(figsize=(5, 4)) \n",
    "heatmap = sns.heatmap(corr_matrix, mask = mask,square = True,linewidths = .5, cmap = 'coolwarm', cbar_kws = {'shrink': .4, 'ticks' : [-1, -.5, 0, 0.5, 1]},vmin = -1, vmax = 1,annot = True,annot_kws = {'size': 12})\n",
    "#add the column names as labels\n",
    "ax.set_yticklabels(corr_matrix.columns, rotation = 0)\n",
    "ax.set_xticklabels(corr_matrix.columns)\n",
    "sns.set_style({'xtick.bottom': True}, {'ytick.left': True})"
   ]
  },
  {
   "cell_type": "code",
   "execution_count": 9,
   "metadata": {},
   "outputs": [],
   "source": [
    "precipitation=precipitation.drop(['Year','Month'],axis=1)"
   ]
  },
  {
   "cell_type": "code",
   "execution_count": 10,
   "metadata": {},
   "outputs": [
    {
     "data": {
      "text/plain": [
       "(360, 3)"
      ]
     },
     "execution_count": 10,
     "metadata": {},
     "output_type": "execute_result"
    }
   ],
   "source": [
    "precipitation.shape"
   ]
  },
  {
   "cell_type": "code",
   "execution_count": 11,
   "metadata": {},
   "outputs": [],
   "source": [
    "X=precipitation.drop('precipitation',axis=1)\n",
    "y=precipitation.precipitation"
   ]
  },
  {
   "cell_type": "code",
   "execution_count": 12,
   "metadata": {},
   "outputs": [
    {
     "data": {
      "text/html": [
       "<div>\n",
       "<style scoped>\n",
       "    .dataframe tbody tr th:only-of-type {\n",
       "        vertical-align: middle;\n",
       "    }\n",
       "\n",
       "    .dataframe tbody tr th {\n",
       "        vertical-align: top;\n",
       "    }\n",
       "\n",
       "    .dataframe thead th {\n",
       "        text-align: right;\n",
       "    }\n",
       "</style>\n",
       "<table border=\"1\" class=\"dataframe\">\n",
       "  <thead>\n",
       "    <tr style=\"text-align: right;\">\n",
       "      <th></th>\n",
       "      <th>past</th>\n",
       "      <th>pasttopast</th>\n",
       "    </tr>\n",
       "  </thead>\n",
       "  <tbody>\n",
       "    <tr>\n",
       "      <th>0</th>\n",
       "      <td>0.000000</td>\n",
       "      <td>0.000000</td>\n",
       "    </tr>\n",
       "    <tr>\n",
       "      <th>1</th>\n",
       "      <td>0.000000</td>\n",
       "      <td>0.000000</td>\n",
       "    </tr>\n",
       "    <tr>\n",
       "      <th>2</th>\n",
       "      <td>0.000000</td>\n",
       "      <td>0.000000</td>\n",
       "    </tr>\n",
       "    <tr>\n",
       "      <th>3</th>\n",
       "      <td>0.000000</td>\n",
       "      <td>0.395000</td>\n",
       "    </tr>\n",
       "    <tr>\n",
       "      <th>4</th>\n",
       "      <td>0.000000</td>\n",
       "      <td>0.000000</td>\n",
       "    </tr>\n",
       "    <tr>\n",
       "      <th>...</th>\n",
       "      <td>...</td>\n",
       "      <td>...</td>\n",
       "    </tr>\n",
       "    <tr>\n",
       "      <th>355</th>\n",
       "      <td>1.053750</td>\n",
       "      <td>5.270000</td>\n",
       "    </tr>\n",
       "    <tr>\n",
       "      <th>356</th>\n",
       "      <td>1.580625</td>\n",
       "      <td>5.270000</td>\n",
       "    </tr>\n",
       "    <tr>\n",
       "      <th>357</th>\n",
       "      <td>5.270000</td>\n",
       "      <td>5.205625</td>\n",
       "    </tr>\n",
       "    <tr>\n",
       "      <th>358</th>\n",
       "      <td>7.249375</td>\n",
       "      <td>8.965000</td>\n",
       "    </tr>\n",
       "    <tr>\n",
       "      <th>359</th>\n",
       "      <td>1.515000</td>\n",
       "      <td>2.108750</td>\n",
       "    </tr>\n",
       "  </tbody>\n",
       "</table>\n",
       "<p>360 rows × 2 columns</p>\n",
       "</div>"
      ],
      "text/plain": [
       "         past  pasttopast\n",
       "0    0.000000    0.000000\n",
       "1    0.000000    0.000000\n",
       "2    0.000000    0.000000\n",
       "3    0.000000    0.395000\n",
       "4    0.000000    0.000000\n",
       "..        ...         ...\n",
       "355  1.053750    5.270000\n",
       "356  1.580625    5.270000\n",
       "357  5.270000    5.205625\n",
       "358  7.249375    8.965000\n",
       "359  1.515000    2.108750\n",
       "\n",
       "[360 rows x 2 columns]"
      ]
     },
     "execution_count": 12,
     "metadata": {},
     "output_type": "execute_result"
    }
   ],
   "source": [
    "X"
   ]
  },
  {
   "cell_type": "code",
   "execution_count": 13,
   "metadata": {},
   "outputs": [
    {
     "data": {
      "text/plain": [
       "0      0.461875\n",
       "1      0.000000\n",
       "2      0.000000\n",
       "3      0.000000\n",
       "4      2.701875\n",
       "         ...   \n",
       "355    4.875625\n",
       "356    5.270000\n",
       "357    6.853750\n",
       "358    6.919375\n",
       "359    4.085625\n",
       "Name: precipitation, Length: 360, dtype: float64"
      ]
     },
     "execution_count": 13,
     "metadata": {},
     "output_type": "execute_result"
    }
   ],
   "source": [
    "y"
   ]
  },
  {
   "cell_type": "code",
   "execution_count": 14,
   "metadata": {},
   "outputs": [
    {
     "data": {
      "text/plain": [
       "(360, 2)"
      ]
     },
     "execution_count": 14,
     "metadata": {},
     "output_type": "execute_result"
    }
   ],
   "source": [
    "X.shape"
   ]
  },
  {
   "cell_type": "code",
   "execution_count": 15,
   "metadata": {},
   "outputs": [
    {
     "data": {
      "text/plain": [
       "(360,)"
      ]
     },
     "execution_count": 15,
     "metadata": {},
     "output_type": "execute_result"
    }
   ],
   "source": [
    "y.shape"
   ]
  },
  {
   "cell_type": "code",
   "execution_count": 16,
   "metadata": {},
   "outputs": [],
   "source": [
    "# Scale the data\n",
    "scaler = MinMaxScaler()\n",
    "X_scaled = scaler.fit_transform(X)\n",
    "\n",
    "# Reshaping data for LSTM/GRU/RNN (samples, timesteps, features)\n",
    "X_scaled = np.reshape(X_scaled, (X_scaled.shape[0], X_scaled.shape[1], 1))\n",
    "\n",
    "# Splitting into training and test sets\n",
    "X_train, X_test, y_train, y_test = train_test_split(X_scaled, y, test_size=0.1, random_state=42)"
   ]
  },
  {
   "cell_type": "markdown",
   "metadata": {},
   "source": [
    "### GRU"
   ]
  },
  {
   "cell_type": "code",
   "execution_count": 17,
   "metadata": {},
   "outputs": [],
   "source": [
    "def create_gru_model(units=64):\n",
    "    model = Sequential()\n",
    "    model.add(GRU(units=units, return_sequences=False, input_shape=(X_train.shape[1], X_train.shape[2])))\n",
    "    model.add(Dense(1))\n",
    "    model.compile(optimizer=Adam(), loss='mse')\n",
    "    return model"
   ]
  },
  {
   "cell_type": "code",
   "execution_count": 18,
   "metadata": {},
   "outputs": [
    {
     "name": "stderr",
     "output_type": "stream",
     "text": [
      "C:\\Users\\C KIRANMAYI\\AppData\\Local\\Temp\\ipykernel_5700\\2098133132.py:1: DeprecationWarning: KerasRegressor is deprecated, use Sci-Keras (https://github.com/adriangb/scikeras) instead. See https://www.adriangb.com/scikeras/stable/migration.html for help migrating.\n",
      "  gru_model = KerasRegressor(build_fn=create_gru_model, verbose=0)\n"
     ]
    }
   ],
   "source": [
    "gru_model = KerasRegressor(build_fn=create_gru_model, verbose=0)"
   ]
  },
  {
   "cell_type": "code",
   "execution_count": 19,
   "metadata": {},
   "outputs": [],
   "source": [
    "# Define the hyperparameter grid\n",
    "gru_param_grid = {\n",
    "    'units': [32, 64, 128],\n",
    "    'batch_size': [16, 32],\n",
    "    'epochs': [50, 100]\n",
    "}"
   ]
  },
  {
   "cell_type": "code",
   "execution_count": 20,
   "metadata": {},
   "outputs": [],
   "source": [
    "gru_grid = GridSearchCV(estimator=gru_model, param_grid=gru_param_grid, cv=3, scoring='neg_mean_squared_error')"
   ]
  },
  {
   "cell_type": "code",
   "execution_count": 21,
   "metadata": {},
   "outputs": [],
   "source": [
    "gru_grid_result = gru_grid.fit(X_train, y_train)"
   ]
  },
  {
   "cell_type": "code",
   "execution_count": 22,
   "metadata": {},
   "outputs": [
    {
     "name": "stdout",
     "output_type": "stream",
     "text": [
      "Best GRU params: {'batch_size': 16, 'epochs': 50, 'units': 32}\n",
      "Best GRU score: -5.921737788918633\n"
     ]
    }
   ],
   "source": [
    "print(f\"Best GRU params: {gru_grid_result.best_params_}\")\n",
    "print(f\"Best GRU score: {gru_grid_result.best_score_}\")"
   ]
  },
  {
   "cell_type": "markdown",
   "metadata": {},
   "source": [
    "### LSTM"
   ]
  },
  {
   "cell_type": "code",
   "execution_count": 23,
   "metadata": {},
   "outputs": [],
   "source": [
    "def create_lstm_model(units=64):\n",
    "    model = Sequential()\n",
    "    model.add(LSTM(units=units, return_sequences=False, input_shape=(X_train.shape[1], X_train.shape[2])))\n",
    "    model.add(Dense(1))\n",
    "    model.compile(optimizer=Adam(), loss='mse')\n",
    "    return model"
   ]
  },
  {
   "cell_type": "code",
   "execution_count": 24,
   "metadata": {},
   "outputs": [
    {
     "name": "stderr",
     "output_type": "stream",
     "text": [
      "C:\\Users\\C KIRANMAYI\\AppData\\Local\\Temp\\ipykernel_5700\\1916978622.py:1: DeprecationWarning: KerasRegressor is deprecated, use Sci-Keras (https://github.com/adriangb/scikeras) instead. See https://www.adriangb.com/scikeras/stable/migration.html for help migrating.\n",
      "  lstm_model = KerasRegressor(build_fn=create_lstm_model, verbose=0)\n"
     ]
    }
   ],
   "source": [
    "lstm_model = KerasRegressor(build_fn=create_lstm_model, verbose=0)"
   ]
  },
  {
   "cell_type": "code",
   "execution_count": 25,
   "metadata": {},
   "outputs": [],
   "source": [
    "# Define the hyperparameter grid\n",
    "lstm_param_grid = {\n",
    "    'units': [32, 64, 128],\n",
    "    'batch_size': [16, 32],\n",
    "    'epochs': [50, 100]\n",
    "}"
   ]
  },
  {
   "cell_type": "code",
   "execution_count": 26,
   "metadata": {},
   "outputs": [],
   "source": [
    "lstm_grid = GridSearchCV(estimator=lstm_model, param_grid=lstm_param_grid, cv=3, scoring='neg_mean_squared_error')"
   ]
  },
  {
   "cell_type": "code",
   "execution_count": 27,
   "metadata": {},
   "outputs": [],
   "source": [
    "lstm_grid_result = lstm_grid.fit(X_train, y_train)"
   ]
  },
  {
   "cell_type": "code",
   "execution_count": 28,
   "metadata": {},
   "outputs": [
    {
     "name": "stdout",
     "output_type": "stream",
     "text": [
      "Best LSTM params: {'batch_size': 16, 'epochs': 50, 'units': 32}\n",
      "Best LSTM score: -5.970741652613344\n"
     ]
    }
   ],
   "source": [
    "print(f\"Best LSTM params: {lstm_grid_result.best_params_}\")\n",
    "print(f\"Best LSTM score: {lstm_grid_result.best_score_}\")"
   ]
  },
  {
   "cell_type": "markdown",
   "metadata": {},
   "source": [
    "### RNN"
   ]
  },
  {
   "cell_type": "code",
   "execution_count": 29,
   "metadata": {},
   "outputs": [],
   "source": [
    "def create_rnn_model(units=64):\n",
    "    model = Sequential()\n",
    "    model.add(SimpleRNN(units=units, return_sequences=False, input_shape=(X_train.shape[1], X_train.shape[2])))\n",
    "    model.add(Dense(1))\n",
    "    model.compile(optimizer=Adam(), loss='mse')\n",
    "    return model"
   ]
  },
  {
   "cell_type": "code",
   "execution_count": 30,
   "metadata": {},
   "outputs": [
    {
     "name": "stderr",
     "output_type": "stream",
     "text": [
      "C:\\Users\\C KIRANMAYI\\AppData\\Local\\Temp\\ipykernel_5700\\361697586.py:1: DeprecationWarning: KerasRegressor is deprecated, use Sci-Keras (https://github.com/adriangb/scikeras) instead. See https://www.adriangb.com/scikeras/stable/migration.html for help migrating.\n",
      "  rnn_model = KerasRegressor(build_fn=create_rnn_model, verbose=0)\n"
     ]
    }
   ],
   "source": [
    "rnn_model = KerasRegressor(build_fn=create_rnn_model, verbose=0)"
   ]
  },
  {
   "cell_type": "code",
   "execution_count": 31,
   "metadata": {},
   "outputs": [],
   "source": [
    "rnn_param_grid = {\n",
    "    'units': [32, 64, 128],\n",
    "    'batch_size': [16, 32],\n",
    "    'epochs': [50, 100]\n",
    "}"
   ]
  },
  {
   "cell_type": "code",
   "execution_count": 32,
   "metadata": {},
   "outputs": [],
   "source": [
    "rnn_grid = GridSearchCV(estimator=rnn_model, param_grid=rnn_param_grid, cv=3, scoring='neg_mean_squared_error')"
   ]
  },
  {
   "cell_type": "code",
   "execution_count": 33,
   "metadata": {},
   "outputs": [],
   "source": [
    "rnn_grid_result = rnn_grid.fit(X_train, y_train)"
   ]
  },
  {
   "cell_type": "code",
   "execution_count": 34,
   "metadata": {},
   "outputs": [
    {
     "name": "stdout",
     "output_type": "stream",
     "text": [
      "Best SimpleRNN params: {'batch_size': 16, 'epochs': 100, 'units': 32}\n",
      "Best SimpleRNN score: -5.86401376628982\n"
     ]
    }
   ],
   "source": [
    "print(f\"Best SimpleRNN params: {rnn_grid_result.best_params_}\")\n",
    "print(f\"Best SimpleRNN score: {rnn_grid_result.best_score_}\")"
   ]
  },
  {
   "cell_type": "code",
   "execution_count": 35,
   "metadata": {},
   "outputs": [
    {
     "name": "stdout",
     "output_type": "stream",
     "text": [
      "GRU Model - MSE: 2.9964403576210934\n",
      "LSTM Model - MSE: 3.111312512455953\n",
      "SimpleRNN Model - MSE: 2.787846166621704\n"
     ]
    }
   ],
   "source": [
    "# Evaluating GRU model on test data\n",
    "best_gru_model = gru_grid_result.best_estimator_\n",
    "y_pred_gru = best_gru_model.predict(X_test)\n",
    "mse_gru = mean_squared_error(y_test, y_pred_gru)\n",
    "\n",
    "\n",
    "print(f\"GRU Model - MSE: {mse_gru}\")\n",
    "\n",
    "# Evaluating LSTM model on test data\n",
    "best_lstm_model = lstm_grid_result.best_estimator_\n",
    "y_pred_lstm = best_lstm_model.predict(X_test)\n",
    "mse_lstm = mean_squared_error(y_test, y_pred_lstm)\n",
    "\n",
    "\n",
    "print(f\"LSTM Model - MSE: {mse_lstm}\")\n",
    "\n",
    "# Evaluating SimpleRNN model on test data\n",
    "best_rnn_model = rnn_grid_result.best_estimator_\n",
    "y_pred_rnn = best_rnn_model.predict(X_test)\n",
    "mse_rnn = mean_squared_error(y_test, y_pred_rnn)\n",
    "\n",
    "\n",
    "print(f\"SimpleRNN Model - MSE: {mse_rnn}\")\n"
   ]
  },
  {
   "cell_type": "markdown",
   "metadata": {},
   "source": [
    "## RNN is sutaible for Precipitation with least MSE"
   ]
  },
  {
   "cell_type": "code",
   "execution_count": 36,
   "metadata": {},
   "outputs": [],
   "source": [
    "precipitation2021=pd.read_csv(\"C:\\\\Users\\\\C KIRANMAYI\\\\Downloads\\\\2020Yield\\\\Phase 1\\\\csv\\\\2020\\\\precipitation.csv\")"
   ]
  },
  {
   "cell_type": "code",
   "execution_count": 37,
   "metadata": {},
   "outputs": [],
   "source": [
    "precipitation2021=precipitation2021.drop(['Year','Month'],axis=1)"
   ]
  },
  {
   "cell_type": "code",
   "execution_count": 38,
   "metadata": {},
   "outputs": [
    {
     "data": {
      "text/html": [
       "<div>\n",
       "<style scoped>\n",
       "    .dataframe tbody tr th:only-of-type {\n",
       "        vertical-align: middle;\n",
       "    }\n",
       "\n",
       "    .dataframe tbody tr th {\n",
       "        vertical-align: top;\n",
       "    }\n",
       "\n",
       "    .dataframe thead th {\n",
       "        text-align: right;\n",
       "    }\n",
       "</style>\n",
       "<table border=\"1\" class=\"dataframe\">\n",
       "  <thead>\n",
       "    <tr style=\"text-align: right;\">\n",
       "      <th></th>\n",
       "      <th>past</th>\n",
       "      <th>pasttopast</th>\n",
       "    </tr>\n",
       "  </thead>\n",
       "  <tbody>\n",
       "    <tr>\n",
       "      <th>0</th>\n",
       "      <td>0.000000</td>\n",
       "      <td>0.000000</td>\n",
       "    </tr>\n",
       "    <tr>\n",
       "      <th>1</th>\n",
       "      <td>0.000000</td>\n",
       "      <td>0.000000</td>\n",
       "    </tr>\n",
       "    <tr>\n",
       "      <th>2</th>\n",
       "      <td>0.000000</td>\n",
       "      <td>0.000000</td>\n",
       "    </tr>\n",
       "    <tr>\n",
       "      <th>3</th>\n",
       "      <td>0.000000</td>\n",
       "      <td>0.000000</td>\n",
       "    </tr>\n",
       "    <tr>\n",
       "      <th>4</th>\n",
       "      <td>0.000000</td>\n",
       "      <td>1.516250</td>\n",
       "    </tr>\n",
       "    <tr>\n",
       "      <th>5</th>\n",
       "      <td>0.000000</td>\n",
       "      <td>0.000000</td>\n",
       "    </tr>\n",
       "    <tr>\n",
       "      <th>6</th>\n",
       "      <td>0.856875</td>\n",
       "      <td>0.000000</td>\n",
       "    </tr>\n",
       "    <tr>\n",
       "      <th>7</th>\n",
       "      <td>4.875625</td>\n",
       "      <td>1.053750</td>\n",
       "    </tr>\n",
       "    <tr>\n",
       "      <th>8</th>\n",
       "      <td>5.270000</td>\n",
       "      <td>1.580625</td>\n",
       "    </tr>\n",
       "    <tr>\n",
       "      <th>9</th>\n",
       "      <td>6.853750</td>\n",
       "      <td>5.270000</td>\n",
       "    </tr>\n",
       "    <tr>\n",
       "      <th>10</th>\n",
       "      <td>6.919375</td>\n",
       "      <td>7.249375</td>\n",
       "    </tr>\n",
       "    <tr>\n",
       "      <th>11</th>\n",
       "      <td>4.085625</td>\n",
       "      <td>1.515000</td>\n",
       "    </tr>\n",
       "  </tbody>\n",
       "</table>\n",
       "</div>"
      ],
      "text/plain": [
       "        past  pasttopast\n",
       "0   0.000000    0.000000\n",
       "1   0.000000    0.000000\n",
       "2   0.000000    0.000000\n",
       "3   0.000000    0.000000\n",
       "4   0.000000    1.516250\n",
       "5   0.000000    0.000000\n",
       "6   0.856875    0.000000\n",
       "7   4.875625    1.053750\n",
       "8   5.270000    1.580625\n",
       "9   6.853750    5.270000\n",
       "10  6.919375    7.249375\n",
       "11  4.085625    1.515000"
      ]
     },
     "execution_count": 38,
     "metadata": {},
     "output_type": "execute_result"
    }
   ],
   "source": [
    "precipitation2021"
   ]
  },
  {
   "cell_type": "code",
   "execution_count": 39,
   "metadata": {},
   "outputs": [],
   "source": [
    "precipitation2020_pred=[]"
   ]
  },
  {
   "cell_type": "code",
   "execution_count": 40,
   "metadata": {},
   "outputs": [],
   "source": [
    "precipitation2021_scaled = scaler.transform(precipitation2021)\n",
    "\n",
    "# Reshape for prediction\n",
    "precipitation2021_scaled = np.reshape(precipitation2021_scaled, (precipitation2021_scaled.shape[0], precipitation2021_scaled.shape[1], 1))"
   ]
  },
  {
   "cell_type": "code",
   "execution_count": 41,
   "metadata": {},
   "outputs": [],
   "source": [
    "best_model = rnn_grid_result.best_estimator_\n",
    "precipitation2020_pred=best_model.predict(precipitation2021_scaled)"
   ]
  },
  {
   "cell_type": "code",
   "execution_count": 42,
   "metadata": {},
   "outputs": [
    {
     "data": {
      "text/plain": [
       "array([0.5860686, 0.5860686, 0.5860686, 0.5860686, 1.0601007, 0.5860686,\n",
       "       1.037888 , 3.3036327, 3.6203651, 5.1739182, 5.6507425, 3.0863628],\n",
       "      dtype=float32)"
      ]
     },
     "execution_count": 42,
     "metadata": {},
     "output_type": "execute_result"
    }
   ],
   "source": [
    "precipitation2020_pred"
   ]
  },
  {
   "cell_type": "code",
   "execution_count": 2,
   "metadata": {},
   "outputs": [
    {
     "data": {
      "text/html": [
       "<div>\n",
       "<style scoped>\n",
       "    .dataframe tbody tr th:only-of-type {\n",
       "        vertical-align: middle;\n",
       "    }\n",
       "\n",
       "    .dataframe tbody tr th {\n",
       "        vertical-align: top;\n",
       "    }\n",
       "\n",
       "    .dataframe thead th {\n",
       "        text-align: right;\n",
       "    }\n",
       "</style>\n",
       "<table border=\"1\" class=\"dataframe\">\n",
       "  <thead>\n",
       "    <tr style=\"text-align: right;\">\n",
       "      <th></th>\n",
       "      <th>0</th>\n",
       "    </tr>\n",
       "  </thead>\n",
       "  <tbody>\n",
       "    <tr>\n",
       "      <th>0</th>\n",
       "      <td>0.586069</td>\n",
       "    </tr>\n",
       "    <tr>\n",
       "      <th>1</th>\n",
       "      <td>0.586069</td>\n",
       "    </tr>\n",
       "    <tr>\n",
       "      <th>2</th>\n",
       "      <td>0.586069</td>\n",
       "    </tr>\n",
       "    <tr>\n",
       "      <th>3</th>\n",
       "      <td>0.586069</td>\n",
       "    </tr>\n",
       "    <tr>\n",
       "      <th>4</th>\n",
       "      <td>1.060101</td>\n",
       "    </tr>\n",
       "    <tr>\n",
       "      <th>5</th>\n",
       "      <td>0.586069</td>\n",
       "    </tr>\n",
       "    <tr>\n",
       "      <th>6</th>\n",
       "      <td>4.937888</td>\n",
       "    </tr>\n",
       "    <tr>\n",
       "      <th>7</th>\n",
       "      <td>3.303633</td>\n",
       "    </tr>\n",
       "    <tr>\n",
       "      <th>8</th>\n",
       "      <td>5.620365</td>\n",
       "    </tr>\n",
       "    <tr>\n",
       "      <th>9</th>\n",
       "      <td>5.173918</td>\n",
       "    </tr>\n",
       "    <tr>\n",
       "      <th>10</th>\n",
       "      <td>7.650743</td>\n",
       "    </tr>\n",
       "    <tr>\n",
       "      <th>11</th>\n",
       "      <td>9.086363</td>\n",
       "    </tr>\n",
       "  </tbody>\n",
       "</table>\n",
       "</div>"
      ],
      "text/plain": [
       "           0\n",
       "0   0.586069\n",
       "1   0.586069\n",
       "2   0.586069\n",
       "3   0.586069\n",
       "4   1.060101\n",
       "5   0.586069\n",
       "6   4.937888\n",
       "7   3.303633\n",
       "8   5.620365\n",
       "9   5.173918\n",
       "10  7.650743\n",
       "11  9.086363"
      ]
     },
     "execution_count": 2,
     "metadata": {},
     "output_type": "execute_result"
    }
   ],
   "source": [
    "#Predicting for 2020\n",
    "preci_data=pd.DataFrame(data=precipitation2020_pred)\n",
    "preci_data"
   ]
  },
  {
   "cell_type": "code",
   "execution_count": 44,
   "metadata": {},
   "outputs": [],
   "source": [
    "#Exporting the predictions of 2020 into csv file\n",
    "preci_data.to_csv(\"C:\\\\Users\\\\C KIRANMAYI\\\\Downloads\\\\2020Yield\\\\Phase 1\\\\csv\\\\2020\\\\precipitation1.csv\")\n"
   ]
  }
 ],
 "metadata": {
  "kernelspec": {
   "display_name": "myenv",
   "language": "python",
   "name": "python3"
  },
  "language_info": {
   "codemirror_mode": {
    "name": "ipython",
    "version": 3
   },
   "file_extension": ".py",
   "mimetype": "text/x-python",
   "name": "python",
   "nbconvert_exporter": "python",
   "pygments_lexer": "ipython3",
   "version": "3.9.18"
  }
 },
 "nbformat": 4,
 "nbformat_minor": 2
}
