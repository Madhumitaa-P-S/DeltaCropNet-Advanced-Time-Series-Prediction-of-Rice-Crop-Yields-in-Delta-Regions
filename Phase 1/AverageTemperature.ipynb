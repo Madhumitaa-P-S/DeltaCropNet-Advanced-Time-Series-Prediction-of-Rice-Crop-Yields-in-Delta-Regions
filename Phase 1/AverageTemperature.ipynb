{
 "cells": [
  {
   "cell_type": "code",
   "execution_count": 1,
   "metadata": {},
   "outputs": [],
   "source": [
    "#Importing Packages\n",
    "import pandas as pd\n",
    "import numpy as np\n",
    "import matplotlib.pyplot as plt\n",
    "import seaborn as sns\n",
    "%matplotlib inline\n",
    "from sklearn.metrics import mean_squared_error,r2_score\n",
    "import openpyxl\n",
    "from sklearn.model_selection import train_test_split, GridSearchCV\n",
    "from sklearn.preprocessing import MinMaxScaler\n",
    "import tensorflow as tf\n",
    "from tensorflow.keras.models import Sequential\n",
    "from tensorflow.keras.layers import Dense, LSTM, GRU, SimpleRNN, Dropout\n",
    "from tensorflow.keras.optimizers import Adam\n",
    "from tensorflow.keras.wrappers.scikit_learn import KerasRegressor\n",
    "from sklearn.metrics import mean_squared_error, r2_score\n"
   ]
  },
  {
   "cell_type": "code",
   "execution_count": 2,
   "metadata": {},
   "outputs": [],
   "source": [
    "#Importing the dataset\n",
    "avgtemp=pd.read_csv(\"C:\\\\Users\\\\C KIRANMAYI\\\\Downloads\\\\2020Yield\\\\Phase 1\\\\csv\\\\average_temperature.csv\")\n"
   ]
  },
  {
   "cell_type": "code",
   "execution_count": 3,
   "metadata": {},
   "outputs": [
    {
     "data": {
      "text/html": [
       "<div>\n",
       "<style scoped>\n",
       "    .dataframe tbody tr th:only-of-type {\n",
       "        vertical-align: middle;\n",
       "    }\n",
       "\n",
       "    .dataframe tbody tr th {\n",
       "        vertical-align: top;\n",
       "    }\n",
       "\n",
       "    .dataframe thead th {\n",
       "        text-align: right;\n",
       "    }\n",
       "</style>\n",
       "<table border=\"1\" class=\"dataframe\">\n",
       "  <thead>\n",
       "    <tr style=\"text-align: right;\">\n",
       "      <th></th>\n",
       "      <th>Year</th>\n",
       "      <th>Month</th>\n",
       "      <th>past</th>\n",
       "      <th>pasttopast</th>\n",
       "      <th>average_temperature</th>\n",
       "    </tr>\n",
       "  </thead>\n",
       "  <tbody>\n",
       "    <tr>\n",
       "      <th>0</th>\n",
       "      <td>1990</td>\n",
       "      <td>1</td>\n",
       "      <td>12.108125</td>\n",
       "      <td>11.050000</td>\n",
       "      <td>12.588750</td>\n",
       "    </tr>\n",
       "    <tr>\n",
       "      <th>1</th>\n",
       "      <td>1990</td>\n",
       "      <td>2</td>\n",
       "      <td>14.452500</td>\n",
       "      <td>15.178750</td>\n",
       "      <td>15.335000</td>\n",
       "    </tr>\n",
       "    <tr>\n",
       "      <th>2</th>\n",
       "      <td>1990</td>\n",
       "      <td>3</td>\n",
       "      <td>15.103125</td>\n",
       "      <td>13.740000</td>\n",
       "      <td>12.610000</td>\n",
       "    </tr>\n",
       "    <tr>\n",
       "      <th>3</th>\n",
       "      <td>1990</td>\n",
       "      <td>4</td>\n",
       "      <td>14.403125</td>\n",
       "      <td>11.754375</td>\n",
       "      <td>13.065625</td>\n",
       "    </tr>\n",
       "    <tr>\n",
       "      <th>4</th>\n",
       "      <td>1990</td>\n",
       "      <td>5</td>\n",
       "      <td>12.381250</td>\n",
       "      <td>11.821875</td>\n",
       "      <td>11.961875</td>\n",
       "    </tr>\n",
       "    <tr>\n",
       "      <th>...</th>\n",
       "      <td>...</td>\n",
       "      <td>...</td>\n",
       "      <td>...</td>\n",
       "      <td>...</td>\n",
       "      <td>...</td>\n",
       "    </tr>\n",
       "    <tr>\n",
       "      <th>355</th>\n",
       "      <td>2019</td>\n",
       "      <td>8</td>\n",
       "      <td>11.032500</td>\n",
       "      <td>9.946875</td>\n",
       "      <td>11.420000</td>\n",
       "    </tr>\n",
       "    <tr>\n",
       "      <th>356</th>\n",
       "      <td>2019</td>\n",
       "      <td>9</td>\n",
       "      <td>11.842500</td>\n",
       "      <td>9.078750</td>\n",
       "      <td>10.181250</td>\n",
       "    </tr>\n",
       "    <tr>\n",
       "      <th>357</th>\n",
       "      <td>2019</td>\n",
       "      <td>10</td>\n",
       "      <td>10.403750</td>\n",
       "      <td>8.433750</td>\n",
       "      <td>7.058750</td>\n",
       "    </tr>\n",
       "    <tr>\n",
       "      <th>358</th>\n",
       "      <td>2019</td>\n",
       "      <td>11</td>\n",
       "      <td>9.977500</td>\n",
       "      <td>7.663750</td>\n",
       "      <td>7.326875</td>\n",
       "    </tr>\n",
       "    <tr>\n",
       "      <th>359</th>\n",
       "      <td>2019</td>\n",
       "      <td>12</td>\n",
       "      <td>10.721875</td>\n",
       "      <td>8.732500</td>\n",
       "      <td>7.031250</td>\n",
       "    </tr>\n",
       "  </tbody>\n",
       "</table>\n",
       "<p>360 rows × 5 columns</p>\n",
       "</div>"
      ],
      "text/plain": [
       "     Year  Month       past  pasttopast  average_temperature\n",
       "0    1990      1  12.108125   11.050000            12.588750\n",
       "1    1990      2  14.452500   15.178750            15.335000\n",
       "2    1990      3  15.103125   13.740000            12.610000\n",
       "3    1990      4  14.403125   11.754375            13.065625\n",
       "4    1990      5  12.381250   11.821875            11.961875\n",
       "..    ...    ...        ...         ...                  ...\n",
       "355  2019      8  11.032500    9.946875            11.420000\n",
       "356  2019      9  11.842500    9.078750            10.181250\n",
       "357  2019     10  10.403750    8.433750             7.058750\n",
       "358  2019     11   9.977500    7.663750             7.326875\n",
       "359  2019     12  10.721875    8.732500             7.031250\n",
       "\n",
       "[360 rows x 5 columns]"
      ]
     },
     "execution_count": 3,
     "metadata": {},
     "output_type": "execute_result"
    }
   ],
   "source": [
    "avgtemp"
   ]
  },
  {
   "cell_type": "code",
   "execution_count": 4,
   "metadata": {},
   "outputs": [
    {
     "data": {
      "text/plain": [
       "(360, 5)"
      ]
     },
     "execution_count": 4,
     "metadata": {},
     "output_type": "execute_result"
    }
   ],
   "source": [
    "avgtemp.shape"
   ]
  },
  {
   "cell_type": "code",
   "execution_count": 5,
   "metadata": {},
   "outputs": [
    {
     "name": "stdout",
     "output_type": "stream",
     "text": [
      "<class 'pandas.core.frame.DataFrame'>\n",
      "RangeIndex: 360 entries, 0 to 359\n",
      "Data columns (total 5 columns):\n",
      " #   Column               Non-Null Count  Dtype  \n",
      "---  ------               --------------  -----  \n",
      " 0   Year                 360 non-null    int64  \n",
      " 1   Month                360 non-null    int64  \n",
      " 2   past                 360 non-null    float64\n",
      " 3   pasttopast           360 non-null    float64\n",
      " 4   average_temperature  360 non-null    float64\n",
      "dtypes: float64(3), int64(2)\n",
      "memory usage: 14.2 KB\n"
     ]
    }
   ],
   "source": [
    "avgtemp.info()"
   ]
  },
  {
   "cell_type": "code",
   "execution_count": 6,
   "metadata": {},
   "outputs": [
    {
     "data": {
      "text/html": [
       "<div>\n",
       "<style scoped>\n",
       "    .dataframe tbody tr th:only-of-type {\n",
       "        vertical-align: middle;\n",
       "    }\n",
       "\n",
       "    .dataframe tbody tr th {\n",
       "        vertical-align: top;\n",
       "    }\n",
       "\n",
       "    .dataframe thead th {\n",
       "        text-align: right;\n",
       "    }\n",
       "</style>\n",
       "<table border=\"1\" class=\"dataframe\">\n",
       "  <thead>\n",
       "    <tr style=\"text-align: right;\">\n",
       "      <th></th>\n",
       "      <th>Year</th>\n",
       "      <th>Month</th>\n",
       "      <th>past</th>\n",
       "      <th>pasttopast</th>\n",
       "      <th>average_temperature</th>\n",
       "    </tr>\n",
       "  </thead>\n",
       "  <tbody>\n",
       "    <tr>\n",
       "      <th>Year</th>\n",
       "      <td>1.000000e+00</td>\n",
       "      <td>2.844429e-15</td>\n",
       "      <td>-0.094683</td>\n",
       "      <td>-0.104498</td>\n",
       "      <td>-0.093443</td>\n",
       "    </tr>\n",
       "    <tr>\n",
       "      <th>Month</th>\n",
       "      <td>2.844429e-15</td>\n",
       "      <td>1.000000e+00</td>\n",
       "      <td>-0.655254</td>\n",
       "      <td>-0.657979</td>\n",
       "      <td>-0.657726</td>\n",
       "    </tr>\n",
       "    <tr>\n",
       "      <th>past</th>\n",
       "      <td>-9.468276e-02</td>\n",
       "      <td>-6.552537e-01</td>\n",
       "      <td>1.000000</td>\n",
       "      <td>0.648920</td>\n",
       "      <td>0.640758</td>\n",
       "    </tr>\n",
       "    <tr>\n",
       "      <th>pasttopast</th>\n",
       "      <td>-1.044984e-01</td>\n",
       "      <td>-6.579787e-01</td>\n",
       "      <td>0.648920</td>\n",
       "      <td>1.000000</td>\n",
       "      <td>0.673349</td>\n",
       "    </tr>\n",
       "    <tr>\n",
       "      <th>average_temperature</th>\n",
       "      <td>-9.344292e-02</td>\n",
       "      <td>-6.577260e-01</td>\n",
       "      <td>0.640758</td>\n",
       "      <td>0.673349</td>\n",
       "      <td>1.000000</td>\n",
       "    </tr>\n",
       "  </tbody>\n",
       "</table>\n",
       "</div>"
      ],
      "text/plain": [
       "                             Year         Month      past  pasttopast  \\\n",
       "Year                 1.000000e+00  2.844429e-15 -0.094683   -0.104498   \n",
       "Month                2.844429e-15  1.000000e+00 -0.655254   -0.657979   \n",
       "past                -9.468276e-02 -6.552537e-01  1.000000    0.648920   \n",
       "pasttopast          -1.044984e-01 -6.579787e-01  0.648920    1.000000   \n",
       "average_temperature -9.344292e-02 -6.577260e-01  0.640758    0.673349   \n",
       "\n",
       "                     average_temperature  \n",
       "Year                           -0.093443  \n",
       "Month                          -0.657726  \n",
       "past                            0.640758  \n",
       "pasttopast                      0.673349  \n",
       "average_temperature             1.000000  "
      ]
     },
     "execution_count": 6,
     "metadata": {},
     "output_type": "execute_result"
    }
   ],
   "source": [
    "#Creating correlation matrix for precipitation\n",
    "corr_matrix=avgtemp.corr()\n",
    "corr_matrix"
   ]
  },
  {
   "cell_type": "code",
   "execution_count": 7,
   "metadata": {},
   "outputs": [],
   "source": [
    "mask = np.zeros_like(corr_matrix, dtype=np.bool_)\n",
    "mask[np.triu_indices_from(mask)]= True"
   ]
  },
  {
   "cell_type": "code",
   "execution_count": 8,
   "metadata": {
    "scrolled": true
   },
   "outputs": [
    {
     "name": "stderr",
     "output_type": "stream",
     "text": [
      "c:\\Users\\C KIRANMAYI\\anaconda3\\envs\\myenv\\lib\\site-packages\\seaborn\\matrix.py:260: FutureWarning: Format strings passed to MaskedConstant are ignored, but in future may error or produce different behavior\n",
      "  annotation = (\"{:\" + self.fmt + \"}\").format(val)\n"
     ]
    },
    {
     "data": {
      "image/png": "[encoded data removed]",
      "text/plain": [
       "<Figure size 500x400 with 2 Axes>"
      ]
     },
     "metadata": {},
     "output_type": "display_data"
    }
   ],
   "source": [
    "f, ax = plt.subplots(figsize=(5, 4)) \n",
    "heatmap = sns.heatmap(corr_matrix, mask = mask,square = True,linewidths = .5, cmap = 'coolwarm', cbar_kws = {'shrink': .4, 'ticks' : [-1, -.5, 0, 0.5, 1]},vmin = -1, vmax = 1,annot = True,annot_kws = {'size': 12})\n",
    "#add the column names as labels\n",
    "ax.set_yticklabels(corr_matrix.columns, rotation = 0)\n",
    "ax.set_xticklabels(corr_matrix.columns)\n",
    "sns.set_style({'xtick.bottom': True}, {'ytick.left': True})"
   ]
  },
  {
   "cell_type": "code",
   "execution_count": 9,
   "metadata": {},
   "outputs": [],
   "source": [
    "avgtemp=avgtemp.drop(['Year','Month'],axis=1)"
   ]
  },
  {
   "cell_type": "code",
   "execution_count": 10,
   "metadata": {},
   "outputs": [
    {
     "data": {
      "text/plain": [
       "(360, 3)"
      ]
     },
     "execution_count": 10,
     "metadata": {},
     "output_type": "execute_result"
    }
   ],
   "source": [
    "avgtemp.shape"
   ]
  },
  {
   "cell_type": "code",
   "execution_count": 11,
   "metadata": {},
   "outputs": [],
   "source": [
    "X=avgtemp.drop('average_temperature',axis=1)\n",
    "y=avgtemp.average_temperature"
   ]
  },
  {
   "cell_type": "code",
   "execution_count": 12,
   "metadata": {},
   "outputs": [
    {
     "data": {
      "text/html": [
       "<div>\n",
       "<style scoped>\n",
       "    .dataframe tbody tr th:only-of-type {\n",
       "        vertical-align: middle;\n",
       "    }\n",
       "\n",
       "    .dataframe tbody tr th {\n",
       "        vertical-align: top;\n",
       "    }\n",
       "\n",
       "    .dataframe thead th {\n",
       "        text-align: right;\n",
       "    }\n",
       "</style>\n",
       "<table border=\"1\" class=\"dataframe\">\n",
       "  <thead>\n",
       "    <tr style=\"text-align: right;\">\n",
       "      <th></th>\n",
       "      <th>past</th>\n",
       "      <th>pasttopast</th>\n",
       "    </tr>\n",
       "  </thead>\n",
       "  <tbody>\n",
       "    <tr>\n",
       "      <th>0</th>\n",
       "      <td>12.108125</td>\n",
       "      <td>11.050000</td>\n",
       "    </tr>\n",
       "    <tr>\n",
       "      <th>1</th>\n",
       "      <td>14.452500</td>\n",
       "      <td>15.178750</td>\n",
       "    </tr>\n",
       "    <tr>\n",
       "      <th>2</th>\n",
       "      <td>15.103125</td>\n",
       "      <td>13.740000</td>\n",
       "    </tr>\n",
       "    <tr>\n",
       "      <th>3</th>\n",
       "      <td>14.403125</td>\n",
       "      <td>11.754375</td>\n",
       "    </tr>\n",
       "    <tr>\n",
       "      <th>4</th>\n",
       "      <td>12.381250</td>\n",
       "      <td>11.821875</td>\n",
       "    </tr>\n",
       "    <tr>\n",
       "      <th>...</th>\n",
       "      <td>...</td>\n",
       "      <td>...</td>\n",
       "    </tr>\n",
       "    <tr>\n",
       "      <th>355</th>\n",
       "      <td>11.032500</td>\n",
       "      <td>9.946875</td>\n",
       "    </tr>\n",
       "    <tr>\n",
       "      <th>356</th>\n",
       "      <td>11.842500</td>\n",
       "      <td>9.078750</td>\n",
       "    </tr>\n",
       "    <tr>\n",
       "      <th>357</th>\n",
       "      <td>10.403750</td>\n",
       "      <td>8.433750</td>\n",
       "    </tr>\n",
       "    <tr>\n",
       "      <th>358</th>\n",
       "      <td>9.977500</td>\n",
       "      <td>7.663750</td>\n",
       "    </tr>\n",
       "    <tr>\n",
       "      <th>359</th>\n",
       "      <td>10.721875</td>\n",
       "      <td>8.732500</td>\n",
       "    </tr>\n",
       "  </tbody>\n",
       "</table>\n",
       "<p>360 rows × 2 columns</p>\n",
       "</div>"
      ],
      "text/plain": [
       "          past  pasttopast\n",
       "0    12.108125   11.050000\n",
       "1    14.452500   15.178750\n",
       "2    15.103125   13.740000\n",
       "3    14.403125   11.754375\n",
       "4    12.381250   11.821875\n",
       "..         ...         ...\n",
       "355  11.032500    9.946875\n",
       "356  11.842500    9.078750\n",
       "357  10.403750    8.433750\n",
       "358   9.977500    7.663750\n",
       "359  10.721875    8.732500\n",
       "\n",
       "[360 rows x 2 columns]"
      ]
     },
     "execution_count": 12,
     "metadata": {},
     "output_type": "execute_result"
    }
   ],
   "source": [
    "X"
   ]
  },
  {
   "cell_type": "code",
   "execution_count": 13,
   "metadata": {},
   "outputs": [
    {
     "data": {
      "text/plain": [
       "0      12.588750\n",
       "1      15.335000\n",
       "2      12.610000\n",
       "3      13.065625\n",
       "4      11.961875\n",
       "         ...    \n",
       "355    11.420000\n",
       "356    10.181250\n",
       "357     7.058750\n",
       "358     7.326875\n",
       "359     7.031250\n",
       "Name: average_temperature, Length: 360, dtype: float64"
      ]
     },
     "execution_count": 13,
     "metadata": {},
     "output_type": "execute_result"
    }
   ],
   "source": [
    "y"
   ]
  },
  {
   "cell_type": "code",
   "execution_count": 14,
   "metadata": {},
   "outputs": [
    {
     "data": {
      "text/plain": [
       "(360, 2)"
      ]
     },
     "execution_count": 14,
     "metadata": {},
     "output_type": "execute_result"
    }
   ],
   "source": [
    "X.shape"
   ]
  },
  {
   "cell_type": "code",
   "execution_count": 15,
   "metadata": {},
   "outputs": [
    {
     "data": {
      "text/plain": [
       "(360,)"
      ]
     },
     "execution_count": 15,
     "metadata": {},
     "output_type": "execute_result"
    }
   ],
   "source": [
    "y.shape"
   ]
  },
  {
   "cell_type": "code",
   "execution_count": 16,
   "metadata": {},
   "outputs": [],
   "source": [
    "# Scale the data\n",
    "scaler = MinMaxScaler()\n",
    "X_scaled = scaler.fit_transform(X)\n",
    "\n",
    "# Reshaping data for LSTM/GRU/RNN (samples, timesteps, features)\n",
    "X_scaled = np.reshape(X_scaled, (X_scaled.shape[0], X_scaled.shape[1], 1))\n",
    "\n",
    "# Splitting into training and test sets\n",
    "X_train, X_test, y_train, y_test = train_test_split(X_scaled, y, test_size=0.1, random_state=42)"
   ]
  },
  {
   "cell_type": "markdown",
   "metadata": {},
   "source": [
    "### GRU(Gated Recurrent Unit)"
   ]
  },
  {
   "cell_type": "code",
   "execution_count": 17,
   "metadata": {},
   "outputs": [],
   "source": [
    "def create_gru_model(units=64):\n",
    "    # model = Sequential()\n",
    "    # model.add(GRU(units=units, return_sequences=False, input_shape=(X_train.shape[1], X_train.shape[2])))\n",
    "    # model.add(Dense(1))\n",
    "    # model.compile(optimizer=Adam(), loss='mse')\n",
    "    # return model\n",
    "    model = Sequential()\n",
    "    model.add(GRU(units=64, return_sequences=True, input_shape=(X_train.shape[1], X_train.shape[2])))\n",
    "    model.add(Dropout(0.2))  # Adding a dropout layer\n",
    "    model.add(GRU(units=64, return_sequences=False))\n",
    "    model.add(Dropout(0.2))  # Another dropout layer\n",
    "    model.add(Dense(1))\n",
    "    model.compile(optimizer=Adam(), loss='mse')\n",
    "    return model"
   ]
  },
  {
   "cell_type": "code",
   "execution_count": 18,
   "metadata": {},
   "outputs": [
    {
     "name": "stderr",
     "output_type": "stream",
     "text": [
      "C:\\Users\\C KIRANMAYI\\AppData\\Local\\Temp\\ipykernel_25320\\2098133132.py:1: DeprecationWarning: KerasRegressor is deprecated, use Sci-Keras (https://github.com/adriangb/scikeras) instead. See https://www.adriangb.com/scikeras/stable/migration.html for help migrating.\n",
      "  gru_model = KerasRegressor(build_fn=create_gru_model, verbose=0)\n"
     ]
    }
   ],
   "source": [
    "gru_model = KerasRegressor(build_fn=create_gru_model, verbose=0)"
   ]
  },
  {
   "cell_type": "code",
   "execution_count": 19,
   "metadata": {},
   "outputs": [],
   "source": [
    "# Define the hyperparameter grid\n",
    "gru_param_grid = {\n",
    "    'units': [32, 64, 128],\n",
    "    'batch_size': [16, 32],\n",
    "    'epochs': [50, 100]\n",
    "}"
   ]
  },
  {
   "cell_type": "code",
   "execution_count": 20,
   "metadata": {},
   "outputs": [],
   "source": [
    "gru_grid = GridSearchCV(estimator=gru_model, param_grid=gru_param_grid, cv=3, scoring='neg_mean_squared_error')"
   ]
  },
  {
   "cell_type": "code",
   "execution_count": 21,
   "metadata": {},
   "outputs": [],
   "source": [
    "gru_grid_result = gru_grid.fit(X_train, y_train)"
   ]
  },
  {
   "cell_type": "code",
   "execution_count": 22,
   "metadata": {},
   "outputs": [
    {
     "name": "stdout",
     "output_type": "stream",
     "text": [
      "Best GRU params: {'batch_size': 16, 'epochs': 100, 'units': 32}\n",
      "Best GRU score: -1.6092048299282495\n"
     ]
    }
   ],
   "source": [
    "print(f\"Best GRU params: {gru_grid_result.best_params_}\")\n",
    "print(f\"Best GRU score: {gru_grid_result.best_score_}\")"
   ]
  },
  {
   "cell_type": "markdown",
   "metadata": {},
   "source": [
    "### LSTM(Long Short Term Memory)"
   ]
  },
  {
   "cell_type": "code",
   "execution_count": 23,
   "metadata": {},
   "outputs": [],
   "source": [
    "def create_lstm_model(units=64):\n",
    "    model = Sequential()\n",
    "    model.add(LSTM(units=units, return_sequences=False, input_shape=(X_train.shape[1], X_train.shape[2])))\n",
    "    model.add(Dense(1))\n",
    "    model.compile(optimizer=Adam(), loss='mse')\n",
    "    return model"
   ]
  },
  {
   "cell_type": "code",
   "execution_count": 24,
   "metadata": {},
   "outputs": [
    {
     "name": "stderr",
     "output_type": "stream",
     "text": [
      "C:\\Users\\C KIRANMAYI\\AppData\\Local\\Temp\\ipykernel_25320\\1916978622.py:1: DeprecationWarning: KerasRegressor is deprecated, use Sci-Keras (https://github.com/adriangb/scikeras) instead. See https://www.adriangb.com/scikeras/stable/migration.html for help migrating.\n",
      "  lstm_model = KerasRegressor(build_fn=create_lstm_model, verbose=0)\n"
     ]
    }
   ],
   "source": [
    "lstm_model = KerasRegressor(build_fn=create_lstm_model, verbose=0)"
   ]
  },
  {
   "cell_type": "code",
   "execution_count": 25,
   "metadata": {},
   "outputs": [],
   "source": [
    "# Define the hyperparameter grid\n",
    "lstm_param_grid = {\n",
    "    'units': [32, 64, 128],\n",
    "    'batch_size': [16, 32],\n",
    "    'epochs': [50, 100]\n",
    "}"
   ]
  },
  {
   "cell_type": "code",
   "execution_count": 26,
   "metadata": {},
   "outputs": [],
   "source": [
    "lstm_grid = GridSearchCV(estimator=lstm_model, param_grid=lstm_param_grid, cv=3, scoring='neg_mean_squared_error')"
   ]
  },
  {
   "cell_type": "code",
   "execution_count": 27,
   "metadata": {},
   "outputs": [],
   "source": [
    "lstm_grid_result = lstm_grid.fit(X_train, y_train)"
   ]
  },
  {
   "cell_type": "code",
   "execution_count": 28,
   "metadata": {},
   "outputs": [
    {
     "name": "stdout",
     "output_type": "stream",
     "text": [
      "Best LSTM params: {'batch_size': 16, 'epochs': 100, 'units': 128}\n",
      "Best LSTM score: -1.6749562905916378\n"
     ]
    }
   ],
   "source": [
    "print(f\"Best LSTM params: {lstm_grid_result.best_params_}\")\n",
    "print(f\"Best LSTM score: {lstm_grid_result.best_score_}\")"
   ]
  },
  {
   "cell_type": "markdown",
   "metadata": {},
   "source": [
    "### RNN (Recurrent Neural Network)"
   ]
  },
  {
   "cell_type": "code",
   "execution_count": 29,
   "metadata": {},
   "outputs": [],
   "source": [
    "def create_rnn_model(units=64):\n",
    "    model = Sequential()\n",
    "    model.add(SimpleRNN(units=units, return_sequences=False, input_shape=(X_train.shape[1], X_train.shape[2])))\n",
    "    model.add(Dense(1))\n",
    "    model.compile(optimizer=Adam(), loss='mse')\n",
    "    return model"
   ]
  },
  {
   "cell_type": "code",
   "execution_count": 30,
   "metadata": {},
   "outputs": [
    {
     "name": "stderr",
     "output_type": "stream",
     "text": [
      "C:\\Users\\C KIRANMAYI\\AppData\\Local\\Temp\\ipykernel_25320\\361697586.py:1: DeprecationWarning: KerasRegressor is deprecated, use Sci-Keras (https://github.com/adriangb/scikeras) instead. See https://www.adriangb.com/scikeras/stable/migration.html for help migrating.\n",
      "  rnn_model = KerasRegressor(build_fn=create_rnn_model, verbose=0)\n"
     ]
    }
   ],
   "source": [
    "rnn_model = KerasRegressor(build_fn=create_rnn_model, verbose=0)"
   ]
  },
  {
   "cell_type": "code",
   "execution_count": 31,
   "metadata": {},
   "outputs": [],
   "source": [
    "rnn_param_grid = {\n",
    "    'units': [32, 64, 128],\n",
    "    'batch_size': [16, 32],\n",
    "    'epochs': [50, 100]\n",
    "}"
   ]
  },
  {
   "cell_type": "code",
   "execution_count": 32,
   "metadata": {},
   "outputs": [],
   "source": [
    "rnn_grid = GridSearchCV(estimator=rnn_model, param_grid=rnn_param_grid, cv=3, scoring='neg_mean_squared_error')"
   ]
  },
  {
   "cell_type": "code",
   "execution_count": 33,
   "metadata": {},
   "outputs": [],
   "source": [
    "rnn_grid_result = rnn_grid.fit(X_train, y_train)"
   ]
  },
  {
   "cell_type": "code",
   "execution_count": 34,
   "metadata": {},
   "outputs": [
    {
     "name": "stdout",
     "output_type": "stream",
     "text": [
      "Best SimpleRNN params: {'batch_size': 16, 'epochs': 100, 'units': 128}\n",
      "Best SimpleRNN score: -1.7682450536598198\n"
     ]
    }
   ],
   "source": [
    "print(f\"Best SimpleRNN params: {rnn_grid_result.best_params_}\")\n",
    "print(f\"Best SimpleRNN score: {rnn_grid_result.best_score_}\")"
   ]
  },
  {
   "cell_type": "code",
   "execution_count": 35,
   "metadata": {},
   "outputs": [
    {
     "name": "stdout",
     "output_type": "stream",
     "text": [
      "GRU Model - MSE: 1.3746298560651673\n",
      "LSTM Model - MSE: 1.2596897220938095\n",
      "SimpleRNN Model - MSE: 1.1681616130899366\n"
     ]
    }
   ],
   "source": [
    "# Evaluating GRU model on test data\n",
    "best_gru_model = gru_grid_result.best_estimator_\n",
    "y_pred_gru = best_gru_model.predict(X_test)\n",
    "mse_gru = mean_squared_error(y_test, y_pred_gru)\n",
    "\n",
    "print(f\"GRU Model - MSE: {mse_gru}\")\n",
    "\n",
    "# Evaluating LSTM model on test data\n",
    "best_lstm_model = lstm_grid_result.best_estimator_\n",
    "y_pred_lstm = best_lstm_model.predict(X_test)\n",
    "mse_lstm = mean_squared_error(y_test, y_pred_lstm)\n",
    "\n",
    "\n",
    "print(f\"LSTM Model - MSE: {mse_lstm}\")\n",
    "\n",
    "# Evaluating SimpleRNN model on test data\n",
    "best_rnn_model = rnn_grid_result.best_estimator_\n",
    "y_pred_rnn = best_rnn_model.predict(X_test)\n",
    "mse_rnn = mean_squared_error(y_test, y_pred_rnn)\n",
    "\n",
    "\n",
    "print(f\"SimpleRNN Model - MSE: {mse_rnn}\")\n"
   ]
  },
  {
   "cell_type": "markdown",
   "metadata": {},
   "source": [
    "## GRU is sutaible for Average Temperature with MSE of 0.95"
   ]
  },
  {
   "cell_type": "code",
   "execution_count": 54,
   "metadata": {},
   "outputs": [],
   "source": [
    "avgtemp2021=pd.read_csv(\"C:\\\\Users\\\\C KIRANMAYI\\\\Downloads\\\\2020Yield\\\\Phase 1\\\\csv\\\\2020\\\\average_temperature.csv\")"
   ]
  },
  {
   "cell_type": "code",
   "execution_count": 55,
   "metadata": {},
   "outputs": [],
   "source": [
    "avgtemp2021=avgtemp2021.drop(['Year','Month'],axis=1)"
   ]
  },
  {
   "cell_type": "code",
   "execution_count": 56,
   "metadata": {},
   "outputs": [
    {
     "data": {
      "text/html": [
       "<div>\n",
       "<style scoped>\n",
       "    .dataframe tbody tr th:only-of-type {\n",
       "        vertical-align: middle;\n",
       "    }\n",
       "\n",
       "    .dataframe tbody tr th {\n",
       "        vertical-align: top;\n",
       "    }\n",
       "\n",
       "    .dataframe thead th {\n",
       "        text-align: right;\n",
       "    }\n",
       "</style>\n",
       "<table border=\"1\" class=\"dataframe\">\n",
       "  <thead>\n",
       "    <tr style=\"text-align: right;\">\n",
       "      <th></th>\n",
       "      <th>past</th>\n",
       "      <th>pasttopast</th>\n",
       "    </tr>\n",
       "  </thead>\n",
       "  <tbody>\n",
       "    <tr>\n",
       "      <th>0</th>\n",
       "      <td>11.646250</td>\n",
       "      <td>10.810625</td>\n",
       "    </tr>\n",
       "    <tr>\n",
       "      <th>1</th>\n",
       "      <td>12.684375</td>\n",
       "      <td>13.856250</td>\n",
       "    </tr>\n",
       "    <tr>\n",
       "      <th>2</th>\n",
       "      <td>13.745000</td>\n",
       "      <td>14.422500</td>\n",
       "    </tr>\n",
       "    <tr>\n",
       "      <th>3</th>\n",
       "      <td>12.303750</td>\n",
       "      <td>11.251875</td>\n",
       "    </tr>\n",
       "    <tr>\n",
       "      <th>4</th>\n",
       "      <td>11.743125</td>\n",
       "      <td>9.826250</td>\n",
       "    </tr>\n",
       "    <tr>\n",
       "      <th>5</th>\n",
       "      <td>10.651875</td>\n",
       "      <td>10.295625</td>\n",
       "    </tr>\n",
       "    <tr>\n",
       "      <th>6</th>\n",
       "      <td>10.758125</td>\n",
       "      <td>10.248125</td>\n",
       "    </tr>\n",
       "    <tr>\n",
       "      <th>7</th>\n",
       "      <td>11.420000</td>\n",
       "      <td>11.032500</td>\n",
       "    </tr>\n",
       "    <tr>\n",
       "      <th>8</th>\n",
       "      <td>10.181250</td>\n",
       "      <td>11.842500</td>\n",
       "    </tr>\n",
       "    <tr>\n",
       "      <th>9</th>\n",
       "      <td>7.058750</td>\n",
       "      <td>10.403750</td>\n",
       "    </tr>\n",
       "    <tr>\n",
       "      <th>10</th>\n",
       "      <td>7.326875</td>\n",
       "      <td>9.977500</td>\n",
       "    </tr>\n",
       "    <tr>\n",
       "      <th>11</th>\n",
       "      <td>7.031250</td>\n",
       "      <td>10.721875</td>\n",
       "    </tr>\n",
       "  </tbody>\n",
       "</table>\n",
       "</div>"
      ],
      "text/plain": [
       "         past  pasttopast\n",
       "0   11.646250   10.810625\n",
       "1   12.684375   13.856250\n",
       "2   13.745000   14.422500\n",
       "3   12.303750   11.251875\n",
       "4   11.743125    9.826250\n",
       "5   10.651875   10.295625\n",
       "6   10.758125   10.248125\n",
       "7   11.420000   11.032500\n",
       "8   10.181250   11.842500\n",
       "9    7.058750   10.403750\n",
       "10   7.326875    9.977500\n",
       "11   7.031250   10.721875"
      ]
     },
     "execution_count": 56,
     "metadata": {},
     "output_type": "execute_result"
    }
   ],
   "source": [
    "avgtemp2021"
   ]
  },
  {
   "cell_type": "code",
   "execution_count": 57,
   "metadata": {},
   "outputs": [],
   "source": [
    "avgtemp2020_pred=[]"
   ]
  },
  {
   "cell_type": "code",
   "execution_count": 58,
   "metadata": {},
   "outputs": [],
   "source": [
    "avgtemp2021_scaled = scaler.transform(avgtemp2021)\n",
    "\n",
    "# Reshape for prediction\n",
    "avgtemp2021_scaled = np.reshape(avgtemp2021_scaled, (avgtemp2021_scaled.shape[0], avgtemp2021_scaled.shape[1], 1))\n"
   ]
  },
  {
   "cell_type": "code",
   "execution_count": 59,
   "metadata": {},
   "outputs": [],
   "source": [
    "best_model = lstm_grid_result.best_estimator_\n",
    "\n",
    "avgtemp2020_pred=best_model.predict(avgtemp2021_scaled)"
   ]
  },
  {
   "cell_type": "code",
   "execution_count": 60,
   "metadata": {},
   "outputs": [
    {
     "data": {
      "text/plain": [
       "array([11.284479, 12.406272, 13.076112, 11.734393, 11.160119, 10.621576,\n",
       "       10.674059, 11.196328, 10.633582,  8.538132,  8.617301,  8.580602],\n",
       "      dtype=float32)"
      ]
     },
     "execution_count": 60,
     "metadata": {},
     "output_type": "execute_result"
    }
   ],
   "source": [
    "avgtemp2020_pred"
   ]
  },
  {
   "cell_type": "code",
   "execution_count": 1,
   "metadata": {},
   "outputs": [
    {
     "data": {
      "text/html": [
       "<div>\n",
       "<style scoped>\n",
       "    .dataframe tbody tr th:only-of-type {\n",
       "        vertical-align: middle;\n",
       "    }\n",
       "\n",
       "    .dataframe tbody tr th {\n",
       "        vertical-align: top;\n",
       "    }\n",
       "\n",
       "    .dataframe thead th {\n",
       "        text-align: right;\n",
       "    }\n",
       "</style>\n",
       "<table border=\"1\" class=\"dataframe\">\n",
       "  <thead>\n",
       "    <tr style=\"text-align: right;\">\n",
       "      <th></th>\n",
       "      <th>0</th>\n",
       "    </tr>\n",
       "  </thead>\n",
       "  <tbody>\n",
       "    <tr>\n",
       "      <th>0</th>\n",
       "      <td>11.284479</td>\n",
       "    </tr>\n",
       "    <tr>\n",
       "      <th>1</th>\n",
       "      <td>12.406272</td>\n",
       "    </tr>\n",
       "    <tr>\n",
       "      <th>2</th>\n",
       "      <td>12.076112</td>\n",
       "    </tr>\n",
       "    <tr>\n",
       "      <th>3</th>\n",
       "      <td>11.734393</td>\n",
       "    </tr>\n",
       "    <tr>\n",
       "      <th>4</th>\n",
       "      <td>11.160119</td>\n",
       "    </tr>\n",
       "    <tr>\n",
       "      <th>5</th>\n",
       "      <td>10.621576</td>\n",
       "    </tr>\n",
       "    <tr>\n",
       "      <th>6</th>\n",
       "      <td>9.674059</td>\n",
       "    </tr>\n",
       "    <tr>\n",
       "      <th>7</th>\n",
       "      <td>11.196328</td>\n",
       "    </tr>\n",
       "    <tr>\n",
       "      <th>8</th>\n",
       "      <td>9.633582</td>\n",
       "    </tr>\n",
       "    <tr>\n",
       "      <th>9</th>\n",
       "      <td>9.538132</td>\n",
       "    </tr>\n",
       "    <tr>\n",
       "      <th>10</th>\n",
       "      <td>9.617301</td>\n",
       "    </tr>\n",
       "    <tr>\n",
       "      <th>11</th>\n",
       "      <td>8.580602</td>\n",
       "    </tr>\n",
       "  </tbody>\n",
       "</table>\n",
       "</div>"
      ],
      "text/plain": [
       "            0\n",
       "0   11.284479\n",
       "1   12.406272\n",
       "2   12.076112\n",
       "3   11.734393\n",
       "4   11.160119\n",
       "5   10.621576\n",
       "6    9.674059\n",
       "7   11.196328\n",
       "8    9.633582\n",
       "9    9.538132\n",
       "10   9.617301\n",
       "11   8.580602"
      ]
     },
     "execution_count": 1,
     "metadata": {},
     "output_type": "execute_result"
    }
   ],
   "source": [
    "#Predicting for 2020\n",
    "avgtemp_data=pd.DataFrame(data=avgtemp2020_pred)\n",
    "avgtemp_data"
   ]
  },
  {
   "cell_type": "code",
   "execution_count": 62,
   "metadata": {},
   "outputs": [],
   "source": [
    "#Exporting the predictions of 2020 into csv file\n",
    "avgtemp_data.to_csv(r\"C:\\\\Users\\\\C KIRANMAYI\\\\Downloads\\\\2020Yield\\\\Phase 1\\\\csv\\\\2020\\\\average_temperature1.csv\")\n"
   ]
  }
 ],
 "metadata": {
  "kernelspec": {
   "display_name": "myenv",
   "language": "python",
   "name": "python3"
  },
  "language_info": {
   "codemirror_mode": {
    "name": "ipython",
    "version": 3
   },
   "file_extension": ".py",
   "mimetype": "text/x-python",
   "name": "python",
   "nbconvert_exporter": "python",
   "pygments_lexer": "ipython3",
   "version": "3.9.18"
  }
 },
 "nbformat": 4,
 "nbformat_minor": 2
}
